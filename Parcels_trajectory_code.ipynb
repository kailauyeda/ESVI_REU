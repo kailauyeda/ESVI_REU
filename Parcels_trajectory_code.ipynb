{
  "cells": [
    {
      "cell_type": "markdown",
      "metadata": {
        "id": "6I2vna9B7jXY"
      },
      "source": [
        "# Parcels trajectory code\n",
        "\n",
        "This notebook should provide a way to run the parcels code using local forcing fields.  The program will access data from the APDRC ERDDAP server, creat local netcdf files, read forcing from these files, then run trajectories in a forward mode.\n",
        "\n",
        "- JimP June 2022\n",
        "\n",
        "- Updated June 13 to run on google colab"
      ]
    },
    {
      "cell_type": "markdown",
      "source": [
        "## 1. Read/write to google drive\n",
        "\n",
        "To run on google colab we first need to mount the directory on google drive.  This will be used to read forcing files and also to write output and save the plots.  The block below is standard.  Later, to access, we use \"/content/drive/MyDrive/REU_2022\".  I've added sub folders for forcing, output and plots.\n"
      ],
      "metadata": {
        "id": "uCZpiWxXHlAe"
      }
    },
    {
      "cell_type": "code",
      "execution_count": null,
      "metadata": {
        "colab": {
          "base_uri": "https://localhost:8080/"
        },
        "id": "KNJ05uoC8Q0N",
        "outputId": "6d5e837f-16c2-4500-f269-29f573373954"
      },
      "outputs": [
        {
          "output_type": "stream",
          "name": "stdout",
          "text": [
            "Mounted at /content/drive\n"
          ]
        }
      ],
      "source": [
        "from google.colab import drive\n",
        "drive.mount('/content/drive')"
      ]
    },
    {
      "cell_type": "markdown",
      "source": [
        "## 2. Install \"missing\" packages\n",
        "\n",
        "Some additional packages are needed since they don't come with google colab; load these here using pip (need the leading !)"
      ],
      "metadata": {
        "id": "ajXT1giJIcAM"
      }
    },
    {
      "cell_type": "code",
      "execution_count": null,
      "metadata": {
        "colab": {
          "base_uri": "https://localhost:8080/",
          "height": 1000
        },
        "id": "ly1cL5vO7nTr",
        "outputId": "a3cb0fac-f6ec-4c26-c9a4-a87ab06901a2"
      },
      "outputs": [
        {
          "output_type": "stream",
          "name": "stdout",
          "text": [
            "Looking in indexes: https://pypi.org/simple, https://us-python.pkg.dev/colab-wheels/public/simple/\n",
            "Collecting basemap\n",
            "  Downloading basemap-1.3.3-cp37-cp37m-manylinux1_x86_64.whl (863 kB)\n",
            "\u001b[K     |████████████████████████████████| 863 kB 4.5 MB/s \n",
            "\u001b[?25hRequirement already satisfied: numpy<1.23,>=1.21 in /usr/local/lib/python3.7/dist-packages (from basemap) (1.21.6)\n",
            "Requirement already satisfied: matplotlib<3.6,>=1.5 in /usr/local/lib/python3.7/dist-packages (from basemap) (3.2.2)\n",
            "Collecting pyproj<3.4.0,>=1.9.3\n",
            "  Downloading pyproj-3.2.1-cp37-cp37m-manylinux2010_x86_64.whl (6.3 MB)\n",
            "\u001b[K     |████████████████████████████████| 6.3 MB 32.7 MB/s \n",
            "\u001b[?25hCollecting basemap-data<1.4,>=1.3.2\n",
            "  Downloading basemap_data-1.3.2-py2.py3-none-any.whl (30.5 MB)\n",
            "\u001b[K     |████████████████████████████████| 30.5 MB 53.6 MB/s \n",
            "\u001b[?25hCollecting pyshp<2.2,>=1.2\n",
            "  Downloading pyshp-2.1.3.tar.gz (219 kB)\n",
            "\u001b[K     |████████████████████████████████| 219 kB 43.6 MB/s \n",
            "\u001b[?25hRequirement already satisfied: pyparsing!=2.0.4,!=2.1.2,!=2.1.6,>=2.0.1 in /usr/local/lib/python3.7/dist-packages (from matplotlib<3.6,>=1.5->basemap) (3.0.9)\n",
            "Requirement already satisfied: kiwisolver>=1.0.1 in /usr/local/lib/python3.7/dist-packages (from matplotlib<3.6,>=1.5->basemap) (1.4.4)\n",
            "Requirement already satisfied: python-dateutil>=2.1 in /usr/local/lib/python3.7/dist-packages (from matplotlib<3.6,>=1.5->basemap) (2.8.2)\n",
            "Requirement already satisfied: cycler>=0.10 in /usr/local/lib/python3.7/dist-packages (from matplotlib<3.6,>=1.5->basemap) (0.11.0)\n",
            "Requirement already satisfied: typing-extensions in /usr/local/lib/python3.7/dist-packages (from kiwisolver>=1.0.1->matplotlib<3.6,>=1.5->basemap) (4.1.1)\n",
            "Requirement already satisfied: certifi in /usr/local/lib/python3.7/dist-packages (from pyproj<3.4.0,>=1.9.3->basemap) (2022.6.15)\n",
            "Requirement already satisfied: six>=1.5 in /usr/local/lib/python3.7/dist-packages (from python-dateutil>=2.1->matplotlib<3.6,>=1.5->basemap) (1.15.0)\n",
            "Building wheels for collected packages: pyshp\n",
            "  Building wheel for pyshp (setup.py) ... \u001b[?25l\u001b[?25hdone\n",
            "  Created wheel for pyshp: filename=pyshp-2.1.3-py3-none-any.whl size=37324 sha256=edc33fcf521d1bed4599c72b5e4eed67b1ca444f5e2db6e04c940fa6667206b5\n",
            "  Stored in directory: /root/.cache/pip/wheels/43/f8/87/53c8cd41545ba20e536ea29a8fcb5431b5f477ca50d5dffbbe\n",
            "Successfully built pyshp\n",
            "Installing collected packages: pyshp, pyproj, basemap-data, basemap\n",
            "Successfully installed basemap-1.3.3 basemap-data-1.3.2 pyproj-3.2.1 pyshp-2.1.3\n"
          ]
        },
        {
          "output_type": "display_data",
          "data": {
            "application/vnd.colab-display-data+json": {
              "pip_warning": {
                "packages": [
                  "mpl_toolkits"
                ]
              }
            }
          },
          "metadata": {}
        },
        {
          "output_type": "stream",
          "name": "stdout",
          "text": [
            "Looking in indexes: https://pypi.org/simple, https://us-python.pkg.dev/colab-wheels/public/simple/\n",
            "Collecting parcels\n",
            "  Downloading parcels-2.0.0.tar.gz (1.4 MB)\n",
            "\u001b[K     |████████████████████████████████| 1.4 MB 4.2 MB/s \n",
            "\u001b[?25hBuilding wheels for collected packages: parcels\n",
            "  Building wheel for parcels (setup.py) ... \u001b[?25l\u001b[?25hdone\n",
            "  Created wheel for parcels: filename=parcels-2.0.0-py3-none-any.whl size=1443240 sha256=65b919c19020f6232ecc2b361dc8b50ebcadb8ea7cde52a197474b40399527e3\n",
            "  Stored in directory: /root/.cache/pip/wheels/0a/24/2b/a319803019867c4186d9f91f4c71d094aefc5c1cec303f6cb9\n",
            "Successfully built parcels\n",
            "Installing collected packages: parcels\n",
            "Successfully installed parcels-2.0.0\n",
            "Looking in indexes: https://pypi.org/simple, https://us-python.pkg.dev/colab-wheels/public/simple/\n",
            "Collecting cgen\n",
            "  Downloading cgen-2020.1.tar.gz (19 kB)\n",
            "Collecting pytools>=2015.1.2\n",
            "  Downloading pytools-2022.1.12.tar.gz (70 kB)\n",
            "\u001b[K     |████████████████████████████████| 70 kB 3.1 MB/s \n",
            "\u001b[?25hRequirement already satisfied: numpy>=1.6 in /usr/local/lib/python3.7/dist-packages (from cgen) (1.21.6)\n",
            "Collecting platformdirs>=2.2.0\n",
            "  Downloading platformdirs-2.5.2-py3-none-any.whl (14 kB)\n",
            "Requirement already satisfied: typing_extensions>=4.0 in /usr/local/lib/python3.7/dist-packages (from pytools>=2015.1.2->cgen) (4.1.1)\n",
            "Building wheels for collected packages: cgen, pytools\n",
            "  Building wheel for cgen (setup.py) ... \u001b[?25l\u001b[?25hdone\n",
            "  Created wheel for cgen: filename=cgen-2020.1-py3-none-any.whl size=15836 sha256=aaa29a6ce27a707410693244d8d33cd67390073c8a3aa5304dab4acf1fa9186d\n",
            "  Stored in directory: /root/.cache/pip/wheels/2a/ea/03/babc69df7b9bbdd77352d860912ae9a246b538f3fef47792c5\n",
            "  Building wheel for pytools (setup.py) ... \u001b[?25l\u001b[?25hdone\n",
            "  Created wheel for pytools: filename=pytools-2022.1.12-py2.py3-none-any.whl size=65034 sha256=6fe2a2169ce7249c3a119fa7835020c470a6920a0bfdc7d6244f3e0723e98863\n",
            "  Stored in directory: /root/.cache/pip/wheels/37/5e/9e/76d7430e116b7cab0016fbabb26b896daae1946a3f7dea9915\n",
            "Successfully built cgen pytools\n",
            "Installing collected packages: platformdirs, pytools, cgen\n",
            "Successfully installed cgen-2020.1 platformdirs-2.5.2 pytools-2022.1.12\n",
            "Looking in indexes: https://pypi.org/simple, https://us-python.pkg.dev/colab-wheels/public/simple/\n",
            "Collecting pymbolic\n",
            "  Downloading pymbolic-2022.1.tar.gz (96 kB)\n",
            "\u001b[K     |████████████████████████████████| 96 kB 3.0 MB/s \n",
            "\u001b[?25hRequirement already satisfied: pytools>=2 in /usr/local/lib/python3.7/dist-packages (from pymbolic) (2022.1.12)\n",
            "Requirement already satisfied: pytest>=2.3 in /usr/local/lib/python3.7/dist-packages (from pymbolic) (3.6.4)\n",
            "Requirement already satisfied: six>=1.10.0 in /usr/local/lib/python3.7/dist-packages (from pytest>=2.3->pymbolic) (1.15.0)\n",
            "Requirement already satisfied: more-itertools>=4.0.0 in /usr/local/lib/python3.7/dist-packages (from pytest>=2.3->pymbolic) (8.13.0)\n",
            "Requirement already satisfied: pluggy<0.8,>=0.5 in /usr/local/lib/python3.7/dist-packages (from pytest>=2.3->pymbolic) (0.7.1)\n",
            "Requirement already satisfied: setuptools in /usr/local/lib/python3.7/dist-packages (from pytest>=2.3->pymbolic) (57.4.0)\n",
            "Requirement already satisfied: py>=1.5.0 in /usr/local/lib/python3.7/dist-packages (from pytest>=2.3->pymbolic) (1.11.0)\n",
            "Requirement already satisfied: attrs>=17.4.0 in /usr/local/lib/python3.7/dist-packages (from pytest>=2.3->pymbolic) (22.1.0)\n",
            "Requirement already satisfied: atomicwrites>=1.0 in /usr/local/lib/python3.7/dist-packages (from pytest>=2.3->pymbolic) (1.4.1)\n",
            "Requirement already satisfied: typing-extensions>=4.0 in /usr/local/lib/python3.7/dist-packages (from pytools>=2->pymbolic) (4.1.1)\n",
            "Requirement already satisfied: platformdirs>=2.2.0 in /usr/local/lib/python3.7/dist-packages (from pytools>=2->pymbolic) (2.5.2)\n",
            "Building wheels for collected packages: pymbolic\n",
            "  Building wheel for pymbolic (setup.py) ... \u001b[?25l\u001b[?25hdone\n",
            "  Created wheel for pymbolic: filename=pymbolic-2022.1-py3-none-any.whl size=118952 sha256=53cffa77013f15291520a5b5409f00d3e6f989e8c100563220f9c487b45def00\n",
            "  Stored in directory: /root/.cache/pip/wheels/e3/a0/06/2b011ece724068aa847ba6e0bfef76cec1f6060f098ffa81a9\n",
            "Successfully built pymbolic\n",
            "Installing collected packages: pymbolic\n",
            "Successfully installed pymbolic-2022.1\n"
          ]
        }
      ],
      "source": [
        "!pip install basemap\n",
        "!pip install parcels\n",
        "!pip install cgen\n",
        "!pip install pymbolic"
      ]
    },
    {
      "cell_type": "markdown",
      "source": [
        "## 3. Import all packages"
      ],
      "metadata": {
        "id": "VqCgi3E_I-mN"
      }
    },
    {
      "cell_type": "code",
      "execution_count": null,
      "metadata": {
        "id": "m-jhmYFk7jXq"
      },
      "outputs": [],
      "source": [
        "# load all necessary packages\n",
        "from parcels import FieldSet, ParticleSet, Variable, JITParticle, AdvectionRK4, plotTrajectoriesFile, ErrorCode\n",
        "import numpy as np\n",
        "import pandas as pd\n",
        "import math\n",
        "from datetime import timedelta\n",
        "from operator import attrgetter\n",
        "import pymbolic\n",
        "import matplotlib.pyplot as plt\n",
        "from mpl_toolkits.basemap import Basemap\n",
        "from netCDF4 import Dataset, num2date"
      ]
    },
    {
      "cell_type": "markdown",
      "metadata": {
        "id": "0EEN7p0n7jXd"
      },
      "source": [
        "## 4. Set run parameters\n",
        "The variables \"model\" and \"depth\" will be used as the file name for the forcing and output.  A forward run will release particles along a line specified by lat1/lat2 and lon1/lon2 with \"npart\" number of points\n",
        "\n",
        "There are three basic steps that can be enabled:\n",
        "1. read forcing from server (read_data = True) or from local disk (read_data = False)\n",
        "2. run parcels model (run_parcels = True)\n",
        "3. make plots (make_plots = True)\n",
        "4. release multiple trajectories from same point (repeat = True)\n",
        "For example, to simply make plots from older runs, set run_parcels to False and make_plots to True"
      ]
    },
    {
      "cell_type": "markdown",
      "metadata": {
        "id": "i9kMS8M-7jXc"
      },
      "source": [
        "### 4A. Note on forcing fields\n",
        "The forcing fields used come from two different global, operational models: the European Center for Medium Range Forecasts (ECMWF) Ocean Reanalysis (ORA-S5) and the NOAA Global Ocean Data Assimliation System (GODAS).  We get the output from the APDRC ERDDAP server as follows:\n",
        "* Monthly mean GODAS zonal (east-west) current: http://apdrc.soest.hawaii.edu/erddap/griddap/hawaii_soest_fbd0_32c1_b107.html\n",
        "*  Monthly mean GODAS meridional (north-south) current: http://apdrc.soest.hawaii.edu/erddap/griddap/hawaii_soest_3720_6ac2_d507.html\n",
        "* Monthly mean ORA-S5 zonal (east-west) current: http://apdrc.soest.hawaii.edu/erddap/griddap/hawaii_soest_9faa_add2_cf6f.html\n",
        "* Monthly mean ORA-S5 meridional (north-south) current: http://apdrc.soest.hawaii.edu/erddap/griddap/hawaii_soest_5e69_05b4_223f.html\n",
        "\n",
        "The process for creating and saving a local version:\n",
        "1. go to specific URL above\n",
        "2. select the time range\n",
        "3. select the lat range: 0 to 60N\n",
        "4. select the lon range: 120 to 280\n",
        "5. click output as netcdf (.nc), OR,\n",
        "5. click on \"generate the URL\"\n",
        "6. copy/paste the resulting URL in the notebook (below is an example)\n",
        "\n",
        "http://apdrc.soest.hawaii.edu/erddap/griddap/hawaii_soest_fbd0_32c1_b107.htmlTable?uogrddsl[(2001-01-01T00:00:00Z):1:(2015-12-31)][(105):1:(105)][(0):1:(60)][(120):1:(280)]\n",
        "\n",
        "http://apdrc.soest.hawaii.edu/erddap/griddap/hawaii_soest_3720_6ac2_d507.htmlTable?vogrddsl[(2001-01-01T00:00:00Z):1:(2015-12-31)][(105):1:(105)][(0):1:(60)][(120):1:(280)]\n",
        "\n",
        "http://apdrc.soest.hawaii.edu/erddap/griddap/hawaii_soest_9faa_add2_cf6f.htmlTable?vozocrte[(2001-01-01):1:(2015-12-31)][(108.0303):1:(108.0303)][(0):1:(60)][(120):1:(280)]\n",
        "\n",
        "http://apdrc.soest.hawaii.edu/erddap/griddap/hawaii_soest_5e69_05b4_223f.htmlTable?vomecrtn[(2001-01-01):1:(2015-12-31)][(108.0303):1:(108.0303)][(0):1:(60)][(120):1:(280)]\n"
      ]
    },
    {
      "cell_type": "code",
      "execution_count": null,
      "metadata": {
        "id": "84fbqgnG7jXf"
      },
      "outputs": [],
      "source": [
        "read_data = False\n",
        "run_parcels = True\n",
        "make_plots = True\n",
        "repeat = False\n",
        "forward=True"
      ]
    },
    {
      "cell_type": "markdown",
      "metadata": {
        "id": "usJuRRqO7jXg"
      },
      "source": [
        "The model start time is specified by year and month, and model can be ORA or GODAS"
      ]
    },
    {
      "cell_type": "code",
      "execution_count": null,
      "metadata": {
        "id": "m5YCpUiJ7jXh"
      },
      "outputs": [],
      "source": [
        "year = '2022'\n",
        "month1 = '01'\n",
        "month2 = '12'\n",
        "model = 'ORA'\n",
        "vdepth = 5.140361 #1045.854 #508.6399 108.0303 1945.296 47.21189 1516.364 5.140361 26.5583 13.99104\n",
        "#model = 'GODAS'\n",
        "#vdepth =  949  #459.0 105.0 949 2174 55 1479 5 25 15\n",
        "depth = str(int(vdepth))"
      ]
    },
    {
      "cell_type": "markdown",
      "metadata": {
        "id": "CRPSYmqy7jXi"
      },
      "source": [
        "Set length of run in days"
      ]
    },
    {
      "cell_type": "code",
      "execution_count": null,
      "metadata": {
        "id": "L8GvT67x7jXi"
      },
      "outputs": [],
      "source": [
        "yrsruntime= 25.0\n",
        "lengthofrun= str(int(yrsruntime)) # in years\n",
        "ndays = 365.0 * yrsruntime"
      ]
    },
    {
      "cell_type": "markdown",
      "metadata": {
        "id": "ncT5yhF_7jXj"
      },
      "source": [
        "Set number of repeat trajectories.  For example, if this is set to 24 hours, a trajectory will be released at this point once per day"
      ]
    },
    {
      "cell_type": "code",
      "execution_count": null,
      "metadata": {
        "id": "Jk9Ms8sn7jXk"
      },
      "outputs": [],
      "source": [
        "repeat_hour = 30.0 * 24.0\n",
        "nstart = 1\n",
        "if repeat == False:\n",
        "    repeat_hour = 0"
      ]
    },
    {
      "cell_type": "markdown",
      "metadata": {
        "id": "uUUK35u47jXl"
      },
      "source": [
        "Setup parameters \n",
        "* specify the number of starting points (npart), starting lat and lon (lat1,lon1,lat2,lon2), OR\n",
        "* provide list of lats/lons for starting points"
      ]
    },
    {
      "cell_type": "code",
      "execution_count": null,
      "metadata": {
        "colab": {
          "base_uri": "https://localhost:8080/"
        },
        "id": "m7mgokix7jXm",
        "outputId": "4d8c91b3-898c-4dcd-a33a-703976c288db"
      },
      "outputs": [
        {
          "output_type": "stream",
          "name": "stdout",
          "text": [
            "Number of latitudes 100\n",
            "Number of longitudes 100\n"
          ]
        }
      ],
      "source": [
        "if forward:\n",
        "  experiment = 'forward_' + model + '-' + year + '_' + depth + '_' + lengthofrun + '_years_' + 'box'\n",
        "else:\n",
        "  experiment = 'backward_' + model + '-' + year + '_' + depth + '_' + lengthofrun + '_years_' + 'box'\n",
        "\n",
        "'''\n",
        "# for line\n",
        "npart = 10\n",
        "lat1 = 30.0\n",
        "lat2 = 30.0\n",
        "lon1 = 210.0\n",
        "lon2 = 220.0\n",
        "'''\n",
        "# start lat and lon of garbage patch particles\n",
        "\n",
        "start_lat = [31.0, 31.0, 31.0, 31.0, 31.0, 31.0, 31.0, 31.0, 31.0, 31.0, \n",
        "             32.0, 32.0, 32.0, 32.0, 32.0, 32.0, 32.0, 32.0, 32.0, 32.0, \n",
        "             33.0, 33.0, 33.0, 33.0, 33.0, 33.0, 33.0, 33.0, 33.0, 33.0, \n",
        "             34.0, 34.0, 34.0, 34.0, 34.0, 34.0, 34.0, 34.0, 34.0, 34.0, \n",
        "             35.0, 35.0, 35.0, 35.0, 35.0, 35.0, 35.0, 35.0, 35.0, 35.0, \n",
        "             36.0, 36.0, 36.0, 36.0, 36.0, 36.0, 36.0, 36.0, 36.0, 36.0, \n",
        "             37.0, 37.0, 37.0, 37.0, 37.0, 37.0, 37.0, 37.0, 37.0, 37.0, \n",
        "             38.0, 38.0, 38.0, 38.0, 38.0, 38.0, 38.0, 38.0, 38.0, 38.0, \n",
        "             39.0, 39.0, 39.0, 39.0, 39.0, 39.0, 39.0, 39.0, 39.0, 39.0, \n",
        "             40.0, 40.0, 40.0, 40.0, 40.0, 40.0, 40.0, 40.0, 40.0, 40.0]\n",
        "\n",
        "start_lon = [211, 212, 213,214,215,216,217,218,219,220,\n",
        "             211, 212, 213,214,215,216,217,218,219,220,\n",
        "             211, 212, 213,214,215,216,217,218,219,220,\n",
        "             211, 212, 213,214,215,216,217,218,219,220,\n",
        "             211, 212, 213,214,215,216,217,218,219,220,\n",
        "             211, 212, 213,214,215,216,217,218,219,220,\n",
        "             211, 212, 213,214,215,216,217,218,219,220,\n",
        "             211, 212, 213,214,215,216,217,218,219,220,\n",
        "             211, 212, 213,214,215,216,217,218,219,220,\n",
        "             211, 212, 213,214,215,216,217,218,219,220]\n",
        "\n",
        "'''\n",
        "# start lat and lon of Mexico particles\n",
        "\n",
        "start_lat=[22,\n",
        "           21,\n",
        "           20,\n",
        "           19,\n",
        "           17,\n",
        "           15,\n",
        "           15,\n",
        "           14,\n",
        "           15,\n",
        "           13,\n",
        "           12,\n",
        "           10,\n",
        "           8,\n",
        "           7,\n",
        "           7,\n",
        "           7]\n",
        "start_lon=[250,252,254,256,258,260,262,264,266,268,270,272,274,276,278,280]\n",
        "\n",
        "\n",
        "# start lat and lon of Japan particles\n",
        "start_lat=[30,\n",
        "           31,\n",
        "           31,\n",
        "           32,\n",
        "           33,\n",
        "           32, \n",
        "           32,\n",
        "           32,\n",
        "           32,\n",
        "           32,\n",
        "           33,\n",
        "           34,\n",
        "           36,\n",
        "           38, \n",
        "           40,\n",
        "           40]\n",
        "\n",
        "start_lon=[130, 131, 132, 133, 134, 135, 136, 137, 138, 139, 140, 140.2, 140,4, 140.6, 143.8]\n",
        "\n",
        "\n",
        "# start lat and lon of Philippines particles\n",
        "start_lat=\n",
        "'''\n",
        "\n",
        "print('Number of latitudes', len(start_lat))\n",
        "print('Number of longitudes',len(start_lon))\n",
        "\n",
        "npart=int(len(start_lat))\n"
      ]
    },
    {
      "cell_type": "code",
      "execution_count": null,
      "metadata": {
        "colab": {
          "base_uri": "https://localhost:8080/"
        },
        "id": "fDP2ks3J7jXn",
        "outputId": "143e94b7-7adf-4b8f-95f2-dfb1ce7a524f"
      },
      "outputs": [
        {
          "output_type": "stream",
          "name": "stdout",
          "text": [
            "Running experiment  forward_ORA-2022_5_25_years_box\n"
          ]
        }
      ],
      "source": [
        "print('Running experiment ', experiment)"
      ]
    },
    {
      "cell_type": "markdown",
      "metadata": {
        "id": "Mv_Wwh3G7jXn"
      },
      "source": [
        "### This should be the end of the user-defined parameters...."
      ]
    },
    {
      "cell_type": "markdown",
      "metadata": {
        "id": "IBCxXAta7jXo"
      },
      "source": [
        "## 5. Get forcing files\n",
        "\n",
        "If the variable \"read_data\" is true, then we go out to the server to get the data at run time.  Otherwise, this step is skipped and we read directly from disk (google drive)."
      ]
    },
    {
      "cell_type": "code",
      "execution_count": null,
      "metadata": {
        "id": "EXcBxUwN7jXo"
      },
      "outputs": [],
      "source": [
        "if read_data:\n",
        "    import urllib\n",
        "    time1 = year + '-' + month + '-' + day1\n",
        "    time2 = year + '-' + month + '-' + day2\n",
        "    constraint = '[(' + time1 + '):1:(' + time2 + ')][(vdepth):1:(vdepth)][(0):1:(60)][(120):1:(280)]'\n",
        "    if model == 'ORA':\n",
        "        root_url = 'http://apdrc.soest.hawaii.edu/erddap/griddap/hawaii_soest_'\n",
        "        URL_U = root_url + '9faa_add2_cf6f.htmlTable?vozocrte' + constraint\n",
        "        URL_V = root_url + '5e69_05b4_223f.htmlTable?vomecrtn' + constraint\n",
        "    elif model == 'GODAS':\n",
        "        root_url = 'http://apdrc.soest.hawaii.edu/erddap/griddap/hawaii_soest_'\n",
        "        URL_U = root_url + 'fbd0_32c1_b107.htmlTable?uogrddsl' + constraint\n",
        "        URL_V = root_url + '3720_6ac2_d507.htmlTable?vogrddsl' + constraint\n",
        "    \n",
        "    urllib.request.urlretrieve(URL_U, '/content/drive/MyDrive/REU_2022_copy/forcing_copy/' + model + '-' + year + '_' + depth + '_U_forcing.nc')\n",
        "    urllib.request.urlretrieve(URL_V, '/content/drive/MyDrive/REU_2022_copy/forcing_copy/' + model + '-' + year + '_' + depth + '_V_forcing.nc')"
      ]
    },
    {
      "cell_type": "code",
      "execution_count": null,
      "metadata": {
        "id": "l_fKrn577jXp"
      },
      "outputs": [],
      "source": [
        "# specify the filenames for the U,V fields\n",
        "filenames = {'U': '/content/drive/MyDrive/REU_2022_copy/forcing_copy/' + model + '-' + year + '_' + depth + '_U_forcing.nc',\n",
        "             'V': '/content/drive/MyDrive/REU_2022_copy/forcing_copy/' + model + '-' + year + '_' + depth + '_V_forcing.nc'}"
      ]
    },
    {
      "cell_type": "code",
      "execution_count": null,
      "metadata": {
        "id": "YQaEDS437jXp"
      },
      "outputs": [],
      "source": [
        "# set the variable names; here the first part is what parcels is expecting, the second is from the file\n",
        "#   'U' is the zonal velocity, given in our file by 'vozocrte'\n",
        "#   'V' is the meridional velocity, given in our file by 'vomecrtn'\n",
        "#   'lat' is the latitude, given in our file by 'latitude'\n",
        "#   'lon' is the longitude, given in our file by 'longitude'\n",
        "#   'time' is time, given in our file by 'time'\n",
        "if model == 'ORA':\n",
        "    variables = {'U': 'vozocrte',\n",
        "                 'V': 'vomecrtn'}\n",
        "if model == 'GODAS':\n",
        "    variables = {'U': 'uogrddsl',\n",
        "                 'V': 'vogrddsl'}\n",
        "\n",
        "dimensions = {'lat': 'latitude',\n",
        "              'lon': 'longitude',\n",
        "              'time': 'time'}"
      ]
    },
    {
      "cell_type": "markdown",
      "metadata": {
        "id": "y_ODX7Su7jXq"
      },
      "source": [
        "## 6. Initialize parcels run"
      ]
    },
    {
      "cell_type": "code",
      "execution_count": null,
      "metadata": {
        "colab": {
          "base_uri": "https://localhost:8080/"
        },
        "id": "FWxTJ7UB7jXq",
        "outputId": "ce126c18-624d-41cd-f4a4-153770990a52"
      },
      "outputs": [
        {
          "output_type": "stream",
          "name": "stdout",
          "text": [
            "Forcing fields (u,v) start at 1979-01-15 00:00:00 and 1979-01-15 00:00:00\n",
            "Forcing fields (u,v) end at 2018-12-15 00:00:00 and 2018-12-15 00:00:00\n"
          ]
        }
      ],
      "source": [
        "# Check start and end times\n",
        "uvar = Dataset(filenames['U'])\n",
        "vvar = Dataset(filenames['V'])\n",
        "timevar = uvar.variables['time']\n",
        "time_convert = np.array(num2date(timevar[:],timevar.units))\n",
        "time_convert = time_convert.astype('datetime64[ns]')\n",
        "udate1 = pd.to_datetime(time_convert)[0]\n",
        "udate2 = pd.to_datetime(time_convert)[-1]\n",
        "timevar = vvar.variables['time']\n",
        "time_convert = np.array(num2date(timevar[:],timevar.units))\n",
        "time_convert = time_convert.astype('datetime64[ns]')\n",
        "vdate1 = pd.to_datetime(time_convert)[0]\n",
        "vdate2 = pd.to_datetime(time_convert)[-1]\n",
        "print('Forcing fields (u,v) start at', udate1, 'and', vdate1)\n",
        "print('Forcing fields (u,v) end at', udate2, 'and', vdate2)"
      ]
    },
    {
      "cell_type": "code",
      "execution_count": null,
      "metadata": {
        "id": "Strt6a197jXr"
      },
      "outputs": [],
      "source": [
        "# create fieldset and run forward\n",
        "if run_parcels:\n",
        "    fieldset = FieldSet.from_netcdf(filenames, variables, dimensions,allow_time_extrapolation=True) # check to see if allow_time_extrapolation only refers to the last month or does it go through all 12 months after\n",
        "    # time-step in forcing file in seconds\n",
        "    dt_forcing = fieldset.U.grid.time[1] - fieldset.U.grid.time[0] # 2678400 seconds = 31 days = 1 month\n",
        "    repeatdt = timedelta(hours=repeat_hour)\n",
        "    \n",
        "    # start_lon = np.linspace(lon1,lon2,npart) # use only if start_lat and start_lon are not giving specific points\n",
        "    # start_lat = np.linspace(lat1,lat2,npart)\n",
        "    if repeat:\n",
        "       #from a line\n",
        "       # pset = ParticleSet.from_line(fieldset=fieldset, pclass=JITParticle, size=npart,\n",
        "       #                              start=(lon1,lat1), finish=(lon2,lat2), #time= yrsruntime*12*2678400, # runtime (years) in seconds\n",
        "       #                              repeatdt=repeatdt)\n",
        "        #group of points\n",
        "        pset = ParticleSet(fieldset=fieldset, pclass=JITParticle, \n",
        "                                     lon=start_lon, lat=start_lat, depth=None, #time= yrsruntime*12*2678400,\n",
        "                                     repeatdt=repeatdt)\n",
        "\n",
        "                                   \n",
        "    else:\n",
        "      # from a line\n",
        "      #pset = ParticleSet.from_line(fieldset=fieldset, pclass=JITParticle, size=npart,\n",
        "      #                            start=(lon1,lat1), finish=(lon2,lat2), # time= yrsruntime*12*2678400,\n",
        "      #                            repeatdt=None)\n",
        "      # group of points\n",
        "      pset = ParticleSet(fieldset=fieldset, pclass=JITParticle, \n",
        "                                     lon=start_lon, lat=start_lat, depth=None,\n",
        "                                     repeatdt=None)\n",
        "  \n",
        "\n",
        "                                    \n"
      ]
    },
    {
      "cell_type": "code",
      "execution_count": null,
      "metadata": {
        "colab": {
          "base_uri": "https://localhost:8080/"
        },
        "id": "gJha4X4H7jXr",
        "outputId": "c8c1eec8-d2b9-4974-d30a-8c37261df6ca"
      },
      "outputs": [
        {
          "output_type": "stream",
          "name": "stdout",
          "text": [
            "Run should have trajectories starting/ending at 100 locations with 1 start times at each and 295 integration (path) times\n",
            "Arrays will be 100 by 295\n"
          ]
        }
      ],
      "source": [
        "months= 12*(yrsruntime)\n",
        "ntime = months / ( dt_forcing / 86400.0 * months ) * ndays + 1\n",
        "#ntime = 24.0 / ( dt_forcing / 86400.0 * 24 ) * ndays + 1 #what is the purpose of this?\n",
        "ntraj = npart\n",
        "if repeat:\n",
        "    nstart = ( ndays * 24 / repeat_hour + 1 )\n",
        "print('Run should have trajectories starting/ending at', int(ntraj), 'locations with', int(nstart), \n",
        "      'start times at each and', int(ntime), 'integration (path) times')\n",
        "print('Arrays will be',int(ntraj*nstart),'by',int(ntime))"
      ]
    },
    {
      "cell_type": "markdown",
      "metadata": {
        "id": "fnEAVK127jXs"
      },
      "source": [
        "## 7. Run code\n",
        "__NOTE__: sometime you have to run this twice (?) on local machines; so far this is NOT The case on google colab\n",
        "\n",
        "The output file contains the lat/lon of the particles over time (set here as traj_output)."
      ]
    },
    {
      "cell_type": "markdown",
      "source": [
        "This is taken from [tutorial_Agulhasparticles](https://github.com/OceanParcels/parcels/blob/master/parcels/examples/tutorial_Agulhasparticles.ipynb) in order to delete particles that go out of bounds. I don't know if there is another option that can be used to track the particles after they leave the perimeter because there is no data in the netCDF file that has velocities for those positions. "
      ],
      "metadata": {
        "id": "8MFuWbZZsHVp"
      }
    },
    {
      "cell_type": "code",
      "source": [
        "def DeleteParticle(particle,fieldset,time):\n",
        "  particle.delete()"
      ],
      "metadata": {
        "id": "J4Dg6QE4siMm"
      },
      "execution_count": null,
      "outputs": []
    },
    {
      "cell_type": "code",
      "execution_count": null,
      "metadata": {
        "colab": {
          "base_uri": "https://localhost:8080/"
        },
        "id": "MZaFL5Np7jXs",
        "outputId": "ac1a7fac-fbd2-4db2-85e4-3ad4fa65512a"
      },
      "outputs": [
        {
          "output_type": "stream",
          "name": "stderr",
          "text": [
            "INFO: Compiled JITParticleAdvectionRK4 ==> /tmp/parcels-0/6a1e0248a8d3cd95183d439bd993946e.so\n",
            "100% (788400000.0 of 788400000.0) |######| Elapsed Time: 0:00:40 Time:  0:00:40\n"
          ]
        }
      ],
      "source": [
        "# specify the output file that will contain the lat/lon points of the particles then integrate\n",
        "# here we set the output time resolution to be the same as the forcing (e.g., tides at 1 hour\n",
        "# and ROMS at 3 hours)\n",
        "\n",
        "traj_output = '/content/drive/MyDrive/REU_2022_copy/output_copy/box_output_copy/' + experiment + '.nc'\n",
        "if run_parcels:\n",
        "  if forward:\n",
        "    output_file = pset.ParticleFile(name=traj_output, outputdt=timedelta(hours=dt_forcing/3600.0)) #dt_forcing/3600=output every month\n",
        "    pset.execute(AdvectionRK4, runtime=timedelta(days=ndays), \n",
        "                 dt=timedelta(hours=24), \n",
        "                 recovery={ErrorCode.ErrorOutOfBounds:DeleteParticle},\n",
        "                 output_file=output_file)\n",
        "# run backwards by making timedelta -timedelta and then make time=the last time in forcing field when we define the pset\n",
        "  else:\n",
        "    output_file = pset.ParticleFile(name=traj_output, outputdt=timedelta(hours=dt_forcing/3600.0)) #dt_forcing/3600=output every month\n",
        "    pset.execute(AdvectionRK4, runtime=timedelta(days=ndays), \n",
        "                 dt=-(timedelta(hours=24)), \n",
        "                 recovery={ErrorCode.ErrorOutOfBounds:DeleteParticle},\n",
        "                 output_file=output_file)\n",
        "\n"
      ]
    },
    {
      "cell_type": "markdown",
      "metadata": {
        "id": "x-0nMgy07jXs"
      },
      "source": [
        "## 8. Plot results"
      ]
    },
    {
      "cell_type": "code",
      "execution_count": null,
      "metadata": {
        "id": "U7b881sW7jXt",
        "colab": {
          "base_uri": "https://localhost:8080/",
          "height": 326
        },
        "outputId": "83a6d802-4e1d-4e11-cd59-06f20226b8a9"
      },
      "outputs": [
        {
          "output_type": "display_data",
          "data": {
            "text/plain": [
              "<Figure size 720x720 with 1 Axes>"
            ],
            "image/png": "[encoded data removed]"
          },
          "metadata": {}
        }
      ],
      "source": [
        "# mo betta one\n",
        "if make_plots:\n",
        "    data = Dataset(traj_output)\n",
        "    traj = data.variables['trajectory'][:][:]\n",
        "    x = data.variables['lon'][:][:]\n",
        "    y = data.variables['lat'][:][:]\n",
        "    \n",
        "    fig, ax = plt.subplots(figsize=(10,10))\n",
        "\n",
        "    m = Basemap(projection='merc',llcrnrlon=120.0,llcrnrlat=0.0,urcrnrlon=280.0,urcrnrlat=60.0,\n",
        "                    resolution='c',lat_1=0.0,lat_2=60.0,lat_0=30.0,lon_0=180.0)\n",
        "    \n",
        "    m.drawcoastlines(color='black', linewidth=0.5)\n",
        "    m.fillcontinents(color='#c0c0c0', lake_color='#ffffff')\n",
        "    m.drawmapboundary()\n",
        "\n",
        "    m.drawparallels(np.arange(0,60,10.0),labels=[1,0,0,0])\n",
        "    m.drawmeridians(np.arange(120,280,20.0),labels=[0,0,0,1])\n",
        "    plt.title(model + ' ' + depth + 'm ' + lengthofrun + ' years')\n",
        "    \n",
        "# plot trajectory with a red start (r*) and the start/end\n",
        "# note the output (x,y) is dimensioned with trajectory number\n",
        "# first, then time.  The trajectory number alternates between\n",
        "# starting point and release time.  For example, x(0,0) is\n",
        "# the initial time, starting point 1, first release; x(1,0) is\n",
        "# initial time, starting point 2, first release; etc. then\n",
        "# second release and so on.\n",
        "    if repeat:\n",
        "        for i in range(0,int(ntraj*nstart),int(ntraj)):\n",
        "            for j in range(int(ntraj)):\n",
        "                traj_color = 'C' + str(j)\n",
        "                x2, y2 = m(x[i+j,:],y[i+j,:])\n",
        "                plt.scatter(x2,y2,facecolors='none',edgecolors=traj_color)\n",
        "        for i in range(ntraj):\n",
        "            x1, y1 = m(x[i,0],y[i,0])\n",
        "            plt.plot(x1,y1,'y*',markersize=16)\n",
        "    else:\n",
        "        for i in range(int(ntraj*nstart)):\n",
        "            x2, y2 = m(x[i,:],y[i,:])\n",
        "            plt.plot(x2,y2)\n",
        "        for i in range(ntraj):\n",
        "            x1, y1 = m(x[i,0],y[i,0])\n",
        "            plt.plot(x1,y1,'r.') # color + symbol... so r* = red star... bs=blue square\n",
        "    \n",
        "    plt.savefig('/content/drive/MyDrive/REU_2022_copy/plots_copy/Box/since_1980/' + experiment + '.png', format = 'png')"
      ]
    },
    {
      "cell_type": "code",
      "source": [
        ""
      ],
      "metadata": {
        "id": "T1WzDVc2fKRP"
      },
      "execution_count": null,
      "outputs": []
    }
  ],
  "metadata": {
    "colab": {
      "collapsed_sections": [],
      "name": "Parcels_trajectory_code",
      "provenance": []
    },
    "kernelspec": {
      "display_name": "Python 3",
      "language": "python",
      "name": "python3"
    },
    "language_info": {
      "codemirror_mode": {
        "name": "ipython",
        "version": 3
      },
      "file_extension": ".py",
      "mimetype": "text/x-python",
      "name": "python",
      "nbconvert_exporter": "python",
      "pygments_lexer": "ipython3",
      "version": "3.8.3"
    }
  },
  "nbformat": 4,
  "nbformat_minor": 0
}
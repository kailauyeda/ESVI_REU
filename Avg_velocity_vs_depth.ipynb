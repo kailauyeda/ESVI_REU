{
  "nbformat": 4,
  "nbformat_minor": 0,
  "metadata": {
    "colab": {
      "name": "Avg_velocity_vs_depth.ipynb",
      "provenance": [],
      "collapsed_sections": []
    },
    "kernelspec": {
      "name": "python3",
      "display_name": "Python 3"
    },
    "language_info": {
      "name": "python"
    }
  },
  "cells": [
    {
      "cell_type": "code",
      "execution_count": null,
      "metadata": {
        "colab": {
          "base_uri": "https://localhost:8080/"
        },
        "id": "T_hNienaGs1z",
        "outputId": "b567ffb0-0643-4e60-dcd8-25fbe5fae0e5"
      },
      "outputs": [
        {
          "output_type": "stream",
          "name": "stdout",
          "text": [
            "Mounted at /content/drive\n"
          ]
        }
      ],
      "source": [
        "from google.colab import drive\n",
        "drive.mount('/content/drive')"
      ]
    },
    {
      "cell_type": "code",
      "source": [
        "import pandas as pd\n",
        "from datetime import datetime\n",
        "import numpy as np\n",
        "import matplotlib.pyplot as plt\n",
        "import netCDF4 as nc\n",
        "!pip install xarray\n",
        "!pip install rioxarray\n",
        "import xarray as xr\n",
        "import rioxarray\n"
      ],
      "metadata": {
        "colab": {
          "base_uri": "https://localhost:8080/"
        },
        "id": "fFcMzGG2W2uQ",
        "outputId": "b0b12fef-eaa6-4450-8ddb-e52c62554509"
      },
      "execution_count": null,
      "outputs": [
        {
          "output_type": "stream",
          "name": "stdout",
          "text": [
            "Looking in indexes: https://pypi.org/simple, https://us-python.pkg.dev/colab-wheels/public/simple/\n",
            "Requirement already satisfied: xarray in /usr/local/lib/python3.7/dist-packages (0.20.2)\n",
            "Requirement already satisfied: typing-extensions>=3.7 in /usr/local/lib/python3.7/dist-packages (from xarray) (4.1.1)\n",
            "Requirement already satisfied: numpy>=1.18 in /usr/local/lib/python3.7/dist-packages (from xarray) (1.21.6)\n",
            "Requirement already satisfied: importlib-metadata in /usr/local/lib/python3.7/dist-packages (from xarray) (4.12.0)\n",
            "Requirement already satisfied: pandas>=1.1 in /usr/local/lib/python3.7/dist-packages (from xarray) (1.3.5)\n",
            "Requirement already satisfied: pytz>=2017.3 in /usr/local/lib/python3.7/dist-packages (from pandas>=1.1->xarray) (2022.1)\n",
            "Requirement already satisfied: python-dateutil>=2.7.3 in /usr/local/lib/python3.7/dist-packages (from pandas>=1.1->xarray) (2.8.2)\n",
            "Requirement already satisfied: six>=1.5 in /usr/local/lib/python3.7/dist-packages (from python-dateutil>=2.7.3->pandas>=1.1->xarray) (1.15.0)\n",
            "Requirement already satisfied: zipp>=0.5 in /usr/local/lib/python3.7/dist-packages (from importlib-metadata->xarray) (3.8.1)\n",
            "Looking in indexes: https://pypi.org/simple, https://us-python.pkg.dev/colab-wheels/public/simple/\n",
            "Collecting rioxarray\n",
            "  Downloading rioxarray-0.9.1.tar.gz (47 kB)\n",
            "\u001b[K     |████████████████████████████████| 47 kB 3.3 MB/s \n",
            "\u001b[?25h  Installing build dependencies ... \u001b[?25l\u001b[?25hdone\n",
            "  Getting requirements to build wheel ... \u001b[?25l\u001b[?25hdone\n",
            "    Preparing wheel metadata ... \u001b[?25l\u001b[?25hdone\n",
            "Requirement already satisfied: xarray>=0.17 in /usr/local/lib/python3.7/dist-packages (from rioxarray) (0.20.2)\n",
            "Requirement already satisfied: packaging in /usr/local/lib/python3.7/dist-packages (from rioxarray) (21.3)\n",
            "Collecting pyproj>=2.2\n",
            "  Downloading pyproj-3.2.1-cp37-cp37m-manylinux2010_x86_64.whl (6.3 MB)\n",
            "\u001b[K     |████████████████████████████████| 6.3 MB 9.0 MB/s \n",
            "\u001b[?25hCollecting rasterio\n",
            "  Downloading rasterio-1.2.10-cp37-cp37m-manylinux1_x86_64.whl (19.3 MB)\n",
            "\u001b[K     |████████████████████████████████| 19.3 MB 1.3 MB/s \n",
            "\u001b[?25hRequirement already satisfied: certifi in /usr/local/lib/python3.7/dist-packages (from pyproj>=2.2->rioxarray) (2022.6.15)\n",
            "Requirement already satisfied: numpy>=1.18 in /usr/local/lib/python3.7/dist-packages (from xarray>=0.17->rioxarray) (1.21.6)\n",
            "Requirement already satisfied: importlib-metadata in /usr/local/lib/python3.7/dist-packages (from xarray>=0.17->rioxarray) (4.12.0)\n",
            "Requirement already satisfied: pandas>=1.1 in /usr/local/lib/python3.7/dist-packages (from xarray>=0.17->rioxarray) (1.3.5)\n",
            "Requirement already satisfied: typing-extensions>=3.7 in /usr/local/lib/python3.7/dist-packages (from xarray>=0.17->rioxarray) (4.1.1)\n",
            "Requirement already satisfied: pytz>=2017.3 in /usr/local/lib/python3.7/dist-packages (from pandas>=1.1->xarray>=0.17->rioxarray) (2022.1)\n",
            "Requirement already satisfied: python-dateutil>=2.7.3 in /usr/local/lib/python3.7/dist-packages (from pandas>=1.1->xarray>=0.17->rioxarray) (2.8.2)\n",
            "Requirement already satisfied: six>=1.5 in /usr/local/lib/python3.7/dist-packages (from python-dateutil>=2.7.3->pandas>=1.1->xarray>=0.17->rioxarray) (1.15.0)\n",
            "Requirement already satisfied: zipp>=0.5 in /usr/local/lib/python3.7/dist-packages (from importlib-metadata->xarray>=0.17->rioxarray) (3.8.1)\n",
            "Requirement already satisfied: pyparsing!=3.0.5,>=2.0.2 in /usr/local/lib/python3.7/dist-packages (from packaging->rioxarray) (3.0.9)\n",
            "Collecting snuggs>=1.4.1\n",
            "  Downloading snuggs-1.4.7-py3-none-any.whl (5.4 kB)\n",
            "Collecting click-plugins\n",
            "  Downloading click_plugins-1.1.1-py2.py3-none-any.whl (7.5 kB)\n",
            "Collecting cligj>=0.5\n",
            "  Downloading cligj-0.7.2-py3-none-any.whl (7.1 kB)\n",
            "Requirement already satisfied: attrs in /usr/local/lib/python3.7/dist-packages (from rasterio->rioxarray) (21.4.0)\n",
            "Collecting affine\n",
            "  Downloading affine-2.3.1-py2.py3-none-any.whl (16 kB)\n",
            "Requirement already satisfied: setuptools in /usr/local/lib/python3.7/dist-packages (from rasterio->rioxarray) (57.4.0)\n",
            "Requirement already satisfied: click>=4.0 in /usr/local/lib/python3.7/dist-packages (from rasterio->rioxarray) (7.1.2)\n",
            "Building wheels for collected packages: rioxarray\n",
            "  Building wheel for rioxarray (PEP 517) ... \u001b[?25l\u001b[?25hdone\n",
            "  Created wheel for rioxarray: filename=rioxarray-0.9.1-py3-none-any.whl size=54611 sha256=7421462b46197c3e0549cea8f88256947b5adfb5e51dd8cb9cd370150d4c0f75\n",
            "  Stored in directory: /root/.cache/pip/wheels/07/da/9e/1cc57b2e7a29a206893db83e984a341e2e94378263e0798229\n",
            "Successfully built rioxarray\n",
            "Installing collected packages: snuggs, cligj, click-plugins, affine, rasterio, pyproj, rioxarray\n",
            "Successfully installed affine-2.3.1 click-plugins-1.1.1 cligj-0.7.2 pyproj-3.2.1 rasterio-1.2.10 rioxarray-0.9.1 snuggs-1.4.7\n"
          ]
        }
      ]
    },
    {
      "cell_type": "code",
      "source": [
        "open=('/content/drive/MyDrive/REU_2022_copy/forcing_copy/ORA-1979-2018_all_depths_U_point_35_235.nc')\n",
        "df2=xr.open_dataset(open)\n",
        "print(df2)"
      ],
      "metadata": {
        "colab": {
          "base_uri": "https://localhost:8080/"
        },
        "id": "6OwPWbrhXFc9",
        "outputId": "044c42b6-3f82-4723-a3b4-2c2e5ff9ff0c"
      },
      "execution_count": null,
      "outputs": [
        {
          "output_type": "stream",
          "name": "stdout",
          "text": [
            "<xarray.Dataset>\n",
            "Dimensions:    (time: 480, LEV: 75, latitude: 1, longitude: 1)\n",
            "Coordinates:\n",
            "  * time       (time) datetime64[ns] 1979-01-15 1979-02-15 ... 2018-12-15\n",
            "  * LEV        (LEV) float64 0.5058 1.556 2.668 ... 5.698e+03 5.902e+03\n",
            "  * latitude   (latitude) float64 35.5\n",
            "  * longitude  (longitude) float64 235.0\n",
            "Data variables:\n",
            "    vozocrte   (time, LEV, latitude, longitude) float32 ...\n",
            "Attributes: (12/28)\n",
            "    cdm_data_type:              Grid\n",
            "    Conventions:                COARDS, CF-1.6, ACDD-1.3\n",
            "    creator_name:               APDRC\n",
            "    creator_type:               institution\n",
            "    creator_url:                http://apdrc.soest.hawaii.edu/thredds/dodsC/l...\n",
            "    Easternmost_Easting:        235.0\n",
            "    ...                         ...\n",
            "    standard_name_vocabulary:   CF Standard Name Table v29\n",
            "    summary:                    Reanalysis Data ORAS5 1x1 grid vozocrte opa4\n",
            "    time_coverage_end:          2018-12-15T00:00:00Z\n",
            "    time_coverage_start:        1979-01-15T00:00:00Z\n",
            "    title:                      Reanalysis Data ORAS5 1x1 grid vozocrte opa4\n",
            "    Westernmost_Easting:        235.0\n"
          ]
        }
      ]
    },
    {
      "cell_type": "code",
      "source": [
        "U=True\n",
        "V=False\n",
        "salt=False\n",
        "temp=False\n",
        "ORA=True\n",
        "GODAS=False\n",
        "STD=False\n",
        "layers=True\n",
        "\n",
        "\n",
        "if U:\n",
        "  direction='u'\n",
        "  if ORA:\n",
        "    model='ORA'\n",
        "    experiment= model + '-1979-2018_all_depths_' + direction + '_235_35'\n",
        "  elif GODAS:\n",
        "    model='GODAS'\n",
        "    experiment= model + '-1980-2022_all_depths_' + direction + '_215_35'\n",
        "elif V:\n",
        "  direction='v'\n",
        "  if ORA:\n",
        "    model='ORA'\n",
        "    experiment= model + '-1979-2018_all_depths_' + direction + '_235_35'\n",
        "  elif GODAS: \n",
        "    model='GODAS'\n",
        "    experiment= model + '-1980-2022_all_depths_' + direction + '_215_35'\n",
        "elif salt:\n",
        "  direction='salinity'\n",
        "  if ORA:\n",
        "    model='ORA'\n",
        "    experiment= model + '-1979-2018_all_depths_' + direction + '_215_35'\n",
        "  elif GODAS:\n",
        "    model='GODAS'\n",
        "    experiment= model + '-1980-2022_all_depths_' + direction + '_215_35'\n",
        "elif temp:\n",
        "  direction='temp'\n",
        "  if ORA:\n",
        "    model='ORA'\n",
        "    experiment= model + '-1979-2018_all_depths_' + direction + '_215_35'\n",
        "  elif GODAS:\n",
        "    model='GODAS'\n",
        "    experiment= model + '-1980-2022_all_depths_' + direction + '_215_35'\n",
        "\n",
        "print('Running ' + experiment)"
      ],
      "metadata": {
        "colab": {
          "base_uri": "https://localhost:8080/"
        },
        "id": "IOkubSbgGm4L",
        "outputId": "056b77b5-025b-442a-a86f-116a0a892711"
      },
      "execution_count": null,
      "outputs": [
        {
          "output_type": "stream",
          "name": "stdout",
          "text": [
            "Running ORA-1979-2018_all_depths_u_235_35\n"
          ]
        }
      ]
    },
    {
      "cell_type": "code",
      "source": [
        "if U: # U \n",
        "  if ORA:\n",
        "    dir=df2.vozocrte\n",
        "  elif GODAS: # GODAS\n",
        "    dir=df2.uogrddsl \n",
        "elif V: # V\n",
        "  if ORA:\n",
        "    dir=df2.vomecrtn\n",
        "  elif GODAS: # GODAS\n",
        "    dir=df2.vogrddsl\n",
        "elif salt:\n",
        "  if ORA:\n",
        "    dir=df2.vosaline\n",
        "  elif GODAS:\n",
        "    dir=df2.a;soasdokf # don't have it yet\n",
        "elif temp:\n",
        "  if ORA:\n",
        "    dir=df2.votemper # don't have it yet\n",
        "  elif GODAS:\n",
        "    dir=df2.a;lskdfj # don't have it yet\n",
        "\n",
        "avg0=dir.mean('time')\n",
        "avg1=np.squeeze(avg0,axis=1)\n",
        "avg=np.squeeze(avg1,axis=1)\n",
        "lev=df2.LEV\n",
        "print(avg)\n",
        "print('vozocrte is', type('vozocrte'))"
      ],
      "metadata": {
        "colab": {
          "base_uri": "https://localhost:8080/"
        },
        "id": "rceaXkgq1bw4",
        "outputId": "a7554dc8-3417-4601-caf8-566ab3a360be"
      },
      "execution_count": null,
      "outputs": [
        {
          "output_type": "stream",
          "name": "stdout",
          "text": [
            "<xarray.DataArray 'vozocrte' (LEV: 75)>\n",
            "array([ 0.00740551,  0.00622134,  0.005373  ,  0.0048268 ,  0.0045457 ,\n",
            "        0.00449072,  0.00463664,  0.0049676 ,  0.00549254,  0.0062449 ,\n",
            "        0.00728148,  0.00871724,  0.01072874,  0.01348455,  0.01682769,\n",
            "        0.02023705,  0.02336118,  0.02526268,  0.02604135,  0.02605538,\n",
            "        0.02520897,  0.02352811,  0.021495  ,  0.01933754,  0.01710434,\n",
            "        0.0148361 ,  0.01259707,  0.01049759,  0.00864294,  0.00707302,\n",
            "        0.0057681 ,  0.00466285,  0.00369253,  0.00278809,  0.00195748,\n",
            "        0.00117523,  0.00045154, -0.00020792, -0.00083543, -0.00140936,\n",
            "       -0.00193001, -0.0023591 , -0.0026449 , -0.00274602, -0.00265383,\n",
            "       -0.00244085, -0.00215571, -0.00187427, -0.00161672, -0.00138465,\n",
            "       -0.00122716, -0.00105003, -0.0009133 , -0.00081651, -0.00076681,\n",
            "       -0.00080029, -0.000898  , -0.00089095, -0.0008145 , -0.00068976,\n",
            "       -0.00055014, -0.00043709, -0.00035431, -0.00027486, -0.00020565,\n",
            "       -0.00018649,  0.00084785, -0.00054698,         nan,         nan,\n",
            "               nan,         nan,         nan,         nan,         nan],\n",
            "      dtype=float32)\n",
            "Coordinates:\n",
            "  * LEV        (LEV) float64 0.5058 1.556 2.668 ... 5.698e+03 5.902e+03\n",
            "    latitude   float64 35.5\n",
            "    longitude  float64 235.0\n",
            "vozocrte is <class 'str'>\n"
          ]
        }
      ]
    },
    {
      "cell_type": "code",
      "source": [
        "std_positive0=(dir.std('time'))/2\n",
        "std_positive1=np.squeeze(std_positive0,axis=1)\n",
        "std_positive=avg+np.squeeze(std_positive1,axis=1)\n",
        "std_negative0=(dir.std('time'))/2\n",
        "std_negative1=np.squeeze(std_negative0,axis=1)\n",
        "std_negative=avg-np.squeeze(std_negative1,axis=1)\n",
        "# not sure if this is the correct way to show standard deviation because the orange line seems farther away from the blue line (avg) compared to the distance between the green & blue line?"
      ],
      "metadata": {
        "colab": {
          "base_uri": "https://localhost:8080/"
        },
        "id": "qu1UNN61dUuv",
        "outputId": "2ffb0d87-8a07-4153-903b-fcb94d95180d"
      },
      "execution_count": null,
      "outputs": [
        {
          "output_type": "stream",
          "name": "stderr",
          "text": [
            "/usr/local/lib/python3.7/dist-packages/numpy/lib/nanfunctions.py:1671: RuntimeWarning: Degrees of freedom <= 0 for slice.\n",
            "  keepdims=keepdims)\n",
            "/usr/local/lib/python3.7/dist-packages/numpy/lib/nanfunctions.py:1671: RuntimeWarning: Degrees of freedom <= 0 for slice.\n",
            "  keepdims=keepdims)\n"
          ]
        }
      ]
    },
    {
      "cell_type": "code",
      "source": [
        "import matplotlib.patches as mpatches\n",
        "fig,ax=plt.subplots(figsize=(5,12))\n",
        "\n",
        "m=plt.plot(avg,lev,color=\"black\")\n",
        "\n",
        "#for legend\n",
        "#mxl=plt.axhline(y=0,color='yellow')\n",
        "\n",
        "#legend\n",
        "mxl_horiz=mpatches.Patch(color=\"#F5E663\",label='Mixed Layer')\n",
        "therm_horiz=mpatches.Patch(color='#47A8BD',label=\"Thermocline\")\n",
        "deep_horiz=mpatches.Patch(color='#FFAD69',label=\"Abyssal\")\n",
        "if STD:\n",
        "  std_col=mpatches.Patch(color='darkgrey',label=\"$\\sigma$\")\n",
        "  plt.legend(handles=[mxl_horiz, therm_horiz, deep_horiz, std_col],loc='upper left')\n",
        "else:\n",
        "  plt.legend(handles=[mxl_horiz, therm_horiz, deep_horiz],loc='upper left')\n",
        "plt.title('Average Zonal (u) Velocity Profile at (35$^{\\circ}$N, 135$^{\\circ}$W)')\n",
        "#plt.title('Average ' + direction + ' at (35N,135W) 1979-2018 ' + model) #EPGP 30-40N, 150-160W... 0-60, 120-280... 35N, 135W\n",
        "\n",
        "if salt:\n",
        "  plt.xlabel('Avg ' + direction + ' (PSU)')\n",
        "elif temp:\n",
        "  plt.xlabel('Avg ' + direction + ' (deg C)')\n",
        "elif U:\n",
        "  plt.xlabel('Avg ' + direction + ' (m/s)')\n",
        "elif V:\n",
        "  plt.xlabel('Avg ' + direction + ' (m/s)')\n",
        "\n",
        "plt.ylabel('Depth (m)')\n",
        "plt.ylim(0,1000)\n",
        "plt.gca().invert_yaxis()\n",
        "if STD:\n",
        "  s1=plt.plot(std_positive,lev, color=\"red\",linewidth=0)\n",
        "  s2=plt.plot(std_negative,lev, color=\"red\",linewidth=0)\n",
        "  plt.fill_betweenx(lev,std_positive,std_negative,color=\"darkgrey\")\n",
        "  if layers:\n",
        "    #mixed layer\n",
        "    for i in range(0,80):\n",
        "      plt.axhspan(i,i+1,facecolor='#F5E663',alpha=0.6)\n",
        "    #thermocline\n",
        "    for i in range(80,170):\n",
        "      plt.axhspan(i,i+1,facecolor='#47A8BD',alpha=0.6)\n",
        "    #abyss\n",
        "    for i in range(170,5000):\n",
        "      plt.axhspan(i,i+1, facecolor='#FFAD69',alpha=0.6)\n",
        "  plt.savefig('/content/drive/MyDrive/REU_2022_copy/plots_copy/Avg_Velo_Salt_Temp_Depth/' + experiment + '.png',format='png')\n",
        "else:\n",
        "    if layers:\n",
        "      for i in range(0,80):\n",
        "        plt.axhspan(i,i+1,facecolor='#F5E663',alpha=0.6)\n",
        "    #thermocline\n",
        "      for i in range(80,170):\n",
        "        plt.axhspan(i,i+1,facecolor='#47A8BD',alpha=0.6)\n",
        "      for i in range(170,5300):\n",
        "        plt.axhspan(i,i+1, facecolor='#FFAD69',alpha=0.6)\n",
        "plt.savefig('/content/drive/MyDrive/REU_2022_copy/plots_copy/Avg_Velo_Salt_Temp_Depth/' + experiment + '_No_STD.png',format='png')"
      ],
      "metadata": {
        "colab": {
          "base_uri": "https://localhost:8080/",
          "height": 732
        },
        "id": "BZdotGJ8M0Z9",
        "outputId": "55dc69b1-c523-4395-d6c9-d79808d42685"
      },
      "execution_count": null,
      "outputs": [
        {
          "output_type": "display_data",
          "data": {
            "text/plain": [
              "<Figure size 360x864 with 1 Axes>"
            ],
            "image/png": "[encoded data removed]"
          },
          "metadata": {
            "needs_background": "light"
          }
        }
      ]
    },
    {
      "cell_type": "markdown",
      "source": [
        "# Calculation of Terminal Velocity\n",
        "\n",
        "See ipad for calculation... Assume unit cube with density of 1.40g/cm<sup>3</sup>"
      ],
      "metadata": {
        "id": "NRoVhKcuIgnv"
      }
    },
    {
      "cell_type": "markdown",
      "source": [
        "# Calculation of Amount of Time to Reach Terminal Velocity\n",
        "\n",
        "I just followwed [this youtube video](https://www.youtube.com/watch?v=E1ZEZ_UVCXc) for the most part\n",
        "\n",
        "## This ended up being for turbulent flow... see part_sink.ipynb for updated calculations"
      ],
      "metadata": {
        "id": "Hy_yj0KylYzm"
      }
    },
    {
      "cell_type": "markdown",
      "source": [
        "Assume that the density of water is constant at 1.0 g/cm^3= 10^6 g/m^3.\n",
        "\n",
        "We want to know when velocity reaches terminal velocity (maximum speed). We have calculated that, for a PET plastic unit cube (0.01m x 0.01m x 0.01m), the terminal velocity is 0.209272 m/s. PET has a density of 1.40*10^6 g/m^3, and since ρ =mass/volume, 1.40*10<sup>6</sup> g/m<sup>3</sup> = mass/10<sup>-6</sup>m<sup>3</sup>. So mass=1.40g. \n",
        "\n",
        "Let C<sub>d</sub> = drag coefficient for a square = 1.28\n",
        "<br> \n",
        "Let A=area of cube (0.01m*0.01m)= 0.0001m<sup>2</sup>\n",
        "\n",
        "\n",
        "We account for 3 different forces acting on the plastic:\n",
        "\n",
        "\n",
        "1.   Gravity (downward force): F<sub>G</sub>= mass*gravity\n",
        "2.   Drag (upwawrd force): F<sub>D</sub> = 1/2 * ρ<sub>cube</sub> v<sup>2</sup> * C<sub>d</sub> * A\n",
        "3.   Buoyant Force (upward force): F<sub>B</sub> = ρ<sub>water</sub> * (volume of displaced water) * gravity\n",
        "\n",
        "Then, we create a while loop to determine velocity of particle over time. We can solve for Net Force so that we can find acceleration since F<sub>net</sub>=mass*acceleration. Then solve for velocity and then for position. When velocity=terminal velocity, the while loop should stop and output the position (height) of the particle at that time. This gives how much far the particle must fall in order to reach terminal velocity.\n",
        "\n",
        "**I don't know how to check the accuracy of this, as it seems as though the code is only running through one iteration of the loop. I also don't know any physics, so there may be some problems with how I accounted for the forces acting on the plastic. It should take longer than 0.01 seconds to reach terminal velocity??**\n",
        "\n",
        "\n"
      ],
      "metadata": {
        "id": "Cfh_eeQJ-ykj"
      }
    },
    {
      "cell_type": "code",
      "source": [
        "# We don't need to use this\n",
        "v_terminal=-0.209272\n",
        "#v_terminal=-0.209272\n",
        "m=1.40 #grams\n",
        "g=-9.81 # or 9.81? m/s^2\n",
        "l=0.01 #m\n",
        "rho_water=10.26*(10**5) # g/m^3\n",
        "#rho_cube=1.04*rho_water\n",
        "C_d=1.28 # based on seawater & cube\n",
        "\n",
        "y=0.0\n",
        "v=0.0\n",
        "t=0.0\n",
        "dt=0.1\n",
        "\n",
        "#F=(0.5*rho_cube*(v**2)*1.28*0.0001)-(m*g)+(rho_water*0.000001*g)\n",
        "#print(F)\n",
        "while v>v_terminal:  \n",
        "  F=((l**3)*rho_water*g)+(0.5*C_d*(v**2)*rho_water*(l**2))-(m*g)\n",
        "  #F=(0.5*rho_water*(v**2)*1.28*0.0001)-(m*g)+(rho_water*0.000001*g)\n",
        "  a=F/m\n",
        "  v=v+a*dt\n",
        "  print(F)\n",
        "  y=y+v*dt\n",
        "  t=t+dt\n",
        "  print(\"depth v_terminal is reached =\", -y, \"m\")\n",
        "  print(\"time to reach terminal =\", t, \"seconds\")\n",
        "  # does this even make sense? it feels like it is only completing one iteration of the loop"
      ],
      "metadata": {
        "id": "wKYZsFF-legi"
      },
      "execution_count": null,
      "outputs": []
    },
    {
      "cell_type": "markdown",
      "source": [
        "For a 0.01m x 0.01m cube"
      ],
      "metadata": {
        "id": "6KQ_-nmrZRbJ"
      }
    },
    {
      "cell_type": "code",
      "source": [
        "import numpy as np\n",
        "g=9.81 #m/s^2\n",
        "print('g is of type', type(g))\n",
        "l=0.01 #m\n",
        "print('l is of type', type(l))\n",
        "rho_water=1025000.0 #g/m^3\n",
        "print('rho_water is of type', type(rho_water))\n",
        "C_d=1.28\n",
        "print('C_d is of type', type(C_d))\n",
        "m=1.40 #g\n",
        "print('m is of type', type(m))\n",
        "\n",
        "v_terminal=np.sqrt(2.0*[(1.4*9.8)-((0.01**3.0)*1025000*9.8)]/(1.28*1025000*(0.01**2.0)))\n",
        "#print(v_terminal)\n",
        "# according to wolfram alpha, v_terminal=0.209272"
      ],
      "metadata": {
        "id": "hGaDShcYoOlW"
      },
      "execution_count": null,
      "outputs": []
    },
    {
      "cell_type": "code",
      "source": [
        ""
      ],
      "metadata": {
        "id": "6NgMeSUTY_Br"
      },
      "execution_count": null,
      "outputs": []
    }
  ]
}
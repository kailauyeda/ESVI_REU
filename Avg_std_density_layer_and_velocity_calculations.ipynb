{
  "nbformat": 4,
  "nbformat_minor": 0,
  "metadata": {
    "colab": {
      "name": "Avg_std_density_layer_and_velocity_calculations",
      "provenance": [],
      "collapsed_sections": []
    },
    "kernelspec": {
      "name": "python3",
      "display_name": "Python 3"
    },
    "language_info": {
      "name": "python"
    }
  },
  "cells": [
    {
      "cell_type": "code",
      "execution_count": null,
      "metadata": {
        "colab": {
          "base_uri": "https://localhost:8080/",
          "height": 1000
        },
        "id": "qrxHalpsfVLp",
        "outputId": "f8b56e77-9d46-4cfb-ec6c-dfe6d9d14787"
      },
      "outputs": [
        {
          "output_type": "stream",
          "name": "stdout",
          "text": [
            "Mounted at /content/drive\n",
            "Looking in indexes: https://pypi.org/simple, https://us-python.pkg.dev/colab-wheels/public/simple/\n",
            "Collecting basemap\n",
            "  Downloading basemap-1.3.3-cp37-cp37m-manylinux1_x86_64.whl (863 kB)\n",
            "\u001b[K     |████████████████████████████████| 863 kB 5.1 MB/s \n",
            "\u001b[?25hCollecting basemap-data<1.4,>=1.3.2\n",
            "  Downloading basemap_data-1.3.2-py2.py3-none-any.whl (30.5 MB)\n",
            "\u001b[K     |████████████████████████████████| 30.5 MB 1.7 MB/s \n",
            "\u001b[?25hCollecting pyproj<3.4.0,>=1.9.3\n",
            "  Downloading pyproj-3.2.1-cp37-cp37m-manylinux2010_x86_64.whl (6.3 MB)\n",
            "\u001b[K     |████████████████████████████████| 6.3 MB 44.8 MB/s \n",
            "\u001b[?25hRequirement already satisfied: matplotlib<3.6,>=1.5 in /usr/local/lib/python3.7/dist-packages (from basemap) (3.2.2)\n",
            "Collecting pyshp<2.2,>=1.2\n",
            "  Downloading pyshp-2.1.3.tar.gz (219 kB)\n",
            "\u001b[K     |████████████████████████████████| 219 kB 50.9 MB/s \n",
            "\u001b[?25hRequirement already satisfied: numpy<1.23,>=1.21 in /usr/local/lib/python3.7/dist-packages (from basemap) (1.21.6)\n",
            "Requirement already satisfied: kiwisolver>=1.0.1 in /usr/local/lib/python3.7/dist-packages (from matplotlib<3.6,>=1.5->basemap) (1.4.4)\n",
            "Requirement already satisfied: pyparsing!=2.0.4,!=2.1.2,!=2.1.6,>=2.0.1 in /usr/local/lib/python3.7/dist-packages (from matplotlib<3.6,>=1.5->basemap) (3.0.9)\n",
            "Requirement already satisfied: cycler>=0.10 in /usr/local/lib/python3.7/dist-packages (from matplotlib<3.6,>=1.5->basemap) (0.11.0)\n",
            "Requirement already satisfied: python-dateutil>=2.1 in /usr/local/lib/python3.7/dist-packages (from matplotlib<3.6,>=1.5->basemap) (2.8.2)\n",
            "Requirement already satisfied: typing-extensions in /usr/local/lib/python3.7/dist-packages (from kiwisolver>=1.0.1->matplotlib<3.6,>=1.5->basemap) (4.1.1)\n",
            "Requirement already satisfied: certifi in /usr/local/lib/python3.7/dist-packages (from pyproj<3.4.0,>=1.9.3->basemap) (2022.6.15)\n",
            "Requirement already satisfied: six>=1.5 in /usr/local/lib/python3.7/dist-packages (from python-dateutil>=2.1->matplotlib<3.6,>=1.5->basemap) (1.15.0)\n",
            "Building wheels for collected packages: pyshp\n",
            "  Building wheel for pyshp (setup.py) ... \u001b[?25l\u001b[?25hdone\n",
            "  Created wheel for pyshp: filename=pyshp-2.1.3-py3-none-any.whl size=37324 sha256=1477b41354bd2e11d97ea6bf4a8dbae6b583af1beb6fa562b9b07abfbe6e958d\n",
            "  Stored in directory: /root/.cache/pip/wheels/43/f8/87/53c8cd41545ba20e536ea29a8fcb5431b5f477ca50d5dffbbe\n",
            "Successfully built pyshp\n",
            "Installing collected packages: pyshp, pyproj, basemap-data, basemap\n",
            "Successfully installed basemap-1.3.3 basemap-data-1.3.2 pyproj-3.2.1 pyshp-2.1.3\n"
          ]
        },
        {
          "output_type": "display_data",
          "data": {
            "application/vnd.colab-display-data+json": {
              "pip_warning": {
                "packages": [
                  "mpl_toolkits"
                ]
              }
            }
          },
          "metadata": {}
        },
        {
          "output_type": "stream",
          "name": "stdout",
          "text": [
            "Looking in indexes: https://pypi.org/simple, https://us-python.pkg.dev/colab-wheels/public/simple/\n",
            "Requirement already satisfied: xarray in /usr/local/lib/python3.7/dist-packages (0.20.2)\n",
            "Requirement already satisfied: typing-extensions>=3.7 in /usr/local/lib/python3.7/dist-packages (from xarray) (4.1.1)\n",
            "Requirement already satisfied: importlib-metadata in /usr/local/lib/python3.7/dist-packages (from xarray) (4.12.0)\n",
            "Requirement already satisfied: pandas>=1.1 in /usr/local/lib/python3.7/dist-packages (from xarray) (1.3.5)\n",
            "Requirement already satisfied: numpy>=1.18 in /usr/local/lib/python3.7/dist-packages (from xarray) (1.21.6)\n",
            "Requirement already satisfied: pytz>=2017.3 in /usr/local/lib/python3.7/dist-packages (from pandas>=1.1->xarray) (2022.1)\n",
            "Requirement already satisfied: python-dateutil>=2.7.3 in /usr/local/lib/python3.7/dist-packages (from pandas>=1.1->xarray) (2.8.2)\n",
            "Requirement already satisfied: six>=1.5 in /usr/local/lib/python3.7/dist-packages (from python-dateutil>=2.7.3->pandas>=1.1->xarray) (1.15.0)\n",
            "Requirement already satisfied: zipp>=0.5 in /usr/local/lib/python3.7/dist-packages (from importlib-metadata->xarray) (3.8.1)\n",
            "Looking in indexes: https://pypi.org/simple, https://us-python.pkg.dev/colab-wheels/public/simple/\n",
            "Collecting rioxarray\n",
            "  Downloading rioxarray-0.9.1.tar.gz (47 kB)\n",
            "\u001b[K     |████████████████████████████████| 47 kB 2.2 MB/s \n",
            "\u001b[?25h  Installing build dependencies ... \u001b[?25l\u001b[?25hdone\n",
            "  Getting requirements to build wheel ... \u001b[?25l\u001b[?25hdone\n",
            "    Preparing wheel metadata ... \u001b[?25l\u001b[?25hdone\n",
            "Collecting rasterio\n",
            "  Downloading rasterio-1.2.10-cp37-cp37m-manylinux1_x86_64.whl (19.3 MB)\n",
            "\u001b[K     |████████████████████████████████| 19.3 MB 1.3 MB/s \n",
            "\u001b[?25hRequirement already satisfied: packaging in /usr/local/lib/python3.7/dist-packages (from rioxarray) (21.3)\n",
            "Requirement already satisfied: xarray>=0.17 in /usr/local/lib/python3.7/dist-packages (from rioxarray) (0.20.2)\n",
            "Requirement already satisfied: pyproj>=2.2 in /usr/local/lib/python3.7/dist-packages (from rioxarray) (3.2.1)\n",
            "Requirement already satisfied: certifi in /usr/local/lib/python3.7/dist-packages (from pyproj>=2.2->rioxarray) (2022.6.15)\n",
            "Requirement already satisfied: typing-extensions>=3.7 in /usr/local/lib/python3.7/dist-packages (from xarray>=0.17->rioxarray) (4.1.1)\n",
            "Requirement already satisfied: importlib-metadata in /usr/local/lib/python3.7/dist-packages (from xarray>=0.17->rioxarray) (4.12.0)\n",
            "Requirement already satisfied: numpy>=1.18 in /usr/local/lib/python3.7/dist-packages (from xarray>=0.17->rioxarray) (1.21.6)\n",
            "Requirement already satisfied: pandas>=1.1 in /usr/local/lib/python3.7/dist-packages (from xarray>=0.17->rioxarray) (1.3.5)\n",
            "Requirement already satisfied: python-dateutil>=2.7.3 in /usr/local/lib/python3.7/dist-packages (from pandas>=1.1->xarray>=0.17->rioxarray) (2.8.2)\n",
            "Requirement already satisfied: pytz>=2017.3 in /usr/local/lib/python3.7/dist-packages (from pandas>=1.1->xarray>=0.17->rioxarray) (2022.1)\n",
            "Requirement already satisfied: six>=1.5 in /usr/local/lib/python3.7/dist-packages (from python-dateutil>=2.7.3->pandas>=1.1->xarray>=0.17->rioxarray) (1.15.0)\n",
            "Requirement already satisfied: zipp>=0.5 in /usr/local/lib/python3.7/dist-packages (from importlib-metadata->xarray>=0.17->rioxarray) (3.8.1)\n",
            "Requirement already satisfied: pyparsing!=3.0.5,>=2.0.2 in /usr/local/lib/python3.7/dist-packages (from packaging->rioxarray) (3.0.9)\n",
            "Requirement already satisfied: click>=4.0 in /usr/local/lib/python3.7/dist-packages (from rasterio->rioxarray) (7.1.2)\n",
            "Collecting snuggs>=1.4.1\n",
            "  Downloading snuggs-1.4.7-py3-none-any.whl (5.4 kB)\n",
            "Requirement already satisfied: setuptools in /usr/local/lib/python3.7/dist-packages (from rasterio->rioxarray) (57.4.0)\n",
            "Requirement already satisfied: attrs in /usr/local/lib/python3.7/dist-packages (from rasterio->rioxarray) (21.4.0)\n",
            "Collecting click-plugins\n",
            "  Downloading click_plugins-1.1.1-py2.py3-none-any.whl (7.5 kB)\n",
            "Collecting affine\n",
            "  Downloading affine-2.3.1-py2.py3-none-any.whl (16 kB)\n",
            "Collecting cligj>=0.5\n",
            "  Downloading cligj-0.7.2-py3-none-any.whl (7.1 kB)\n",
            "Building wheels for collected packages: rioxarray\n",
            "  Building wheel for rioxarray (PEP 517) ... \u001b[?25l\u001b[?25hdone\n",
            "  Created wheel for rioxarray: filename=rioxarray-0.9.1-py3-none-any.whl size=54611 sha256=685eedf55a1fb315f884e5a03fe787bcf177cabc7dca176cbf074b4ba2d53e22\n",
            "  Stored in directory: /root/.cache/pip/wheels/07/da/9e/1cc57b2e7a29a206893db83e984a341e2e94378263e0798229\n",
            "Successfully built rioxarray\n",
            "Installing collected packages: snuggs, cligj, click-plugins, affine, rasterio, rioxarray\n",
            "Successfully installed affine-2.3.1 click-plugins-1.1.1 cligj-0.7.2 rasterio-1.2.10 rioxarray-0.9.1 snuggs-1.4.7\n"
          ]
        }
      ],
      "source": [
        "from google.colab import drive\n",
        "drive.mount('/content/drive')\n",
        "import csv\n",
        "import pandas as pd\n",
        "from datetime import datetime\n",
        "import numpy as np\n",
        "!pip install basemap\n",
        "import matplotlib.pyplot as plt\n",
        "from mpl_toolkits.basemap import Basemap\n",
        "import netCDF4 as nc\n",
        "!pip install xarray\n",
        "!pip install rioxarray\n",
        "import xarray as xr\n",
        "import rioxarray\n"
      ]
    },
    {
      "cell_type": "markdown",
      "source": [
        "# Average Calculations"
      ],
      "metadata": {
        "id": "iN1r3SrmFkeC"
      }
    },
    {
      "cell_type": "code",
      "source": [
        "from numpy import meshgrid"
      ],
      "metadata": {
        "id": "Wdao4Sbh8KgJ"
      },
      "execution_count": null,
      "outputs": []
    },
    {
      "cell_type": "markdown",
      "source": [
        "Enter file path & name. Choose which variable we want to investigate."
      ],
      "metadata": {
        "id": "pavtf7q0i9FB"
      }
    },
    {
      "cell_type": "code",
      "source": [
        "from matplotlib.rcsetup import validate_bool_maybe_none\n",
        "Thermocline=False\n",
        "MXL=True\n",
        "U=False\n",
        "V=False\n",
        "standard_cbar=False\n",
        "\n",
        "open=('/content/drive/MyDrive/REU_2022_copy/ORA-1983-2018_mixedlayer.nc')\n",
        "\n"
      ],
      "metadata": {
        "id": "YeQw-sGJimh0"
      },
      "execution_count": null,
      "outputs": []
    },
    {
      "cell_type": "markdown",
      "source": [
        "open dataset, rename variable somxl010 to mld_avg. Open dataset as xarray.\n",
        "\n",
        "Then, take the mean mld_avg aross time. So average the 35 years (time) worth of mixed layer depths for each location. \n",
        "\n"
      ],
      "metadata": {
        "id": "EzNtIXaYFsYA"
      }
    },
    {
      "cell_type": "code",
      "source": [
        "stat='avg'\n",
        "year='2022'\n",
        "\n",
        "df2=xr.open_dataset(open)\n",
        "\n",
        "\n",
        "\n",
        "# thermocline\n",
        "if Thermocline:\n",
        "  depth='Thermocline'\n",
        "  plt_title='Thermocline Depth'\n",
        "  therm=df2.so20chgt\n",
        "  avg=therm.mean('time')\n",
        "  experiment='ORA_' + depth + '_' + stat\n",
        "\n",
        "# mixed layer\n",
        "elif MXL:\n",
        "  depth='MXL'\n",
        "  plt_title='Mixed Layer Depth'\n",
        "  mld=df2.somxl010\n",
        "  avg=mld.mean('time') #compute the mean over time\n",
        "  experiment='ORA_' + depth + '_' + stat\n",
        "\n",
        "# U (zonal velocity)\n",
        "\n",
        "elif U:\n",
        "  #model='ORA'\n",
        "  #vdepth = 47.21189 #1045.854 #508.6399 108.0303 1945.296 47.21189 1516.364\n",
        "  model = 'GODAS'\n",
        "  vdepth =  949  #459.0 105.0 949 2174 55 1479\n",
        "  depth = str(int(vdepth))\n",
        "  plt_title='U_zonal_Velocity'\n",
        "  #df1=df2.vozocrte #added (for ORA)\n",
        "  df1=df2.uogrddsl #added (for GODAS)\n",
        "  u=df1.drop_vars('LEV') #added (for ORA)\n",
        "  avg=u.mean('time')\n",
        "  experiment=model + '-' + year + '_' + depth + '_' + 'U' + '_' + stat\n",
        "\n",
        "# V (meridional velocity)\n",
        "elif V:\n",
        "  #model= 'ORA'\n",
        "  #vdepth = 1516.364 #1045.854 #508.6399 108.0303 1945.296 47.21189 1516.364\n",
        "  model = 'GODAS'\n",
        "  vdepth =  55  #459.0 105.0 949 2174 55 1479\n",
        "  depth = str(int(vdepth))\n",
        "  plt_title='V_meridional_Velocity'\n",
        "  #v=df2.vomecrtn #added (for ORA)\n",
        "  v=df2.vogrddsl #added (for GODAS)\n",
        "  avg=v.mean('time')\n",
        "  experiment=model + '-' + year + '_' + depth +  '_' + 'V' + '_' + stat\n",
        "\n",
        "\n",
        "print(df2)\n"
      ],
      "metadata": {
        "colab": {
          "base_uri": "https://localhost:8080/"
        },
        "id": "qL115RLgE8Va",
        "outputId": "d20a47d2-207e-4922-b64a-8b687407959b"
      },
      "execution_count": null,
      "outputs": [
        {
          "output_type": "stream",
          "name": "stdout",
          "text": [
            "<xarray.Dataset>\n",
            "Dimensions:    (time: 432, latitude: 61, longitude: 161)\n",
            "Coordinates:\n",
            "  * time       (time) datetime64[ns] 1983-01-15 1983-02-15 ... 2018-12-15\n",
            "  * latitude   (latitude) float64 0.5 1.5 2.5 3.5 4.5 ... 57.5 58.5 59.5 60.5\n",
            "  * longitude  (longitude) float64 120.0 121.0 122.0 123.0 ... 278.0 279.0 280.0\n",
            "Data variables:\n",
            "    somxl010   (time, latitude, longitude) float32 nan nan nan ... 27.51 12.33\n",
            "Attributes: (12/28)\n",
            "    cdm_data_type:              Grid\n",
            "    Conventions:                COARDS, CF-1.6, ACDD-1.3\n",
            "    creator_name:               APDRC\n",
            "    creator_type:               institution\n",
            "    creator_url:                http://apdrc.soest.hawaii.edu/thredds/dodsC/l...\n",
            "    Easternmost_Easting:        280.0\n",
            "    ...                         ...\n",
            "    standard_name_vocabulary:   CF Standard Name Table v29\n",
            "    summary:                    Reanalysis Data ORAS5 1x1 grid somxl010 opa0\n",
            "    time_coverage_end:          2018-12-15T00:00:00Z\n",
            "    time_coverage_start:        1983-01-15T00:00:00Z\n",
            "    title:                      Reanalysis Data ORAS5 1x1 grid somxl010 opa0\n",
            "    Westernmost_Easting:        120.0\n"
          ]
        }
      ]
    },
    {
      "cell_type": "code",
      "source": [
        "print(avg)"
      ],
      "metadata": {
        "colab": {
          "base_uri": "https://localhost:8080/"
        },
        "id": "uqN7_7ebNRyN",
        "outputId": "41f9ab06-0b92-45cd-e272-09495db6bb7d"
      },
      "execution_count": null,
      "outputs": [
        {
          "output_type": "stream",
          "name": "stdout",
          "text": [
            "<xarray.DataArray 'somxl010' (latitude: 61, longitude: 161)>\n",
            "array([[      nan,       nan,       nan, ..., 19.04396 , 19.237135,\n",
            "              nan],\n",
            "       [18.851904, 16.106478, 15.862398, ..., 21.36301 , 20.47576 ,\n",
            "        19.107141],\n",
            "       [21.118212, 22.35952 , 21.36964 , ..., 20.693447, 20.948257,\n",
            "        21.225206],\n",
            "       ...,\n",
            "       [      nan,       nan,       nan, ..., 19.796732, 16.979963,\n",
            "        15.399329],\n",
            "       [      nan,       nan,       nan, ..., 20.289516, 17.445751,\n",
            "        15.022671],\n",
            "       [      nan,       nan,       nan, ..., 20.100197, 18.655678,\n",
            "        15.786355]], dtype=float32)\n",
            "Coordinates:\n",
            "  * latitude   (latitude) float64 0.5 1.5 2.5 3.5 4.5 ... 57.5 58.5 59.5 60.5\n",
            "  * longitude  (longitude) float64 120.0 121.0 122.0 123.0 ... 278.0 279.0 280.0\n"
          ]
        }
      ]
    },
    {
      "cell_type": "code",
      "source": [
        "print(np.max(avg))\n",
        "print(np.min(avg))"
      ],
      "metadata": {
        "colab": {
          "base_uri": "https://localhost:8080/"
        },
        "id": "dbzJc4URcL3e",
        "outputId": "145549b6-df44-4dfe-81ea-2ab6256ae6c8"
      },
      "execution_count": null,
      "outputs": [
        {
          "output_type": "stream",
          "name": "stdout",
          "text": [
            "<xarray.DataArray 'somxl010' ()>\n",
            "array(85.08614, dtype=float32)\n",
            "<xarray.DataArray 'somxl010' ()>\n",
            "array(5.7660885, dtype=float32)\n"
          ]
        }
      ]
    },
    {
      "cell_type": "markdown",
      "source": [
        "Create a mesh grid with latitude and longitude (matrix indexing). Transpose the mld_avg matrix so that it is the same shape as the latitude and longitude matrices."
      ],
      "metadata": {
        "id": "LjVsTF38NZK5"
      }
    },
    {
      "cell_type": "code",
      "source": [
        "lat,lon=meshgrid(avg['latitude'],avg['longitude'])\n",
        "#grid=np.transpose(avg.values)\n",
        "#grid1=np.transpose(avg.values) #added\n",
        "#grid=np.delete(grid1,0,2) #added... the column is deleted, but the dimensions are not changing...\n",
        "#grid1=np.transpose(avg.values)\n",
        "#grid=np.delete(grid1,0,2)\n",
        "# thermocline\n",
        "if Thermocline:\n",
        "  grid=np.transpose(avg.values)\n",
        "\n",
        "# mixed layer\n",
        "elif MXL:\n",
        "  grid=np.transpose(avg.values)\n",
        "\n",
        "# U (zonal velocity)\n",
        "elif U:\n",
        "  grid0=np.transpose(avg.values)\n",
        "  grid=np.squeeze(grid0,axis=2)\n",
        "\n",
        "# V (meridional velocity)\n",
        "elif V:\n",
        "  grid0=np.transpose(avg.values)\n",
        "  grid=np.squeeze(grid0,axis=2)\n",
        "\n",
        "lat.shape,lon.shape,grid.shape"
      ],
      "metadata": {
        "colab": {
          "base_uri": "https://localhost:8080/"
        },
        "id": "Vo3cSnddMG9h",
        "outputId": "d79ddfdd-f74c-4b8c-bb28-c93a6d9b3458"
      },
      "execution_count": null,
      "outputs": [
        {
          "output_type": "execute_result",
          "data": {
            "text/plain": [
              "((161, 61), (161, 61), (161, 61))"
            ]
          },
          "metadata": {},
          "execution_count": 41
        }
      ]
    },
    {
      "cell_type": "code",
      "source": [
        "print(lat[0],lon[0],lat[-1],lon[-1])"
      ],
      "metadata": {
        "colab": {
          "base_uri": "https://localhost:8080/"
        },
        "id": "u_pgbJCJNodj",
        "outputId": "1208f0ef-19d6-4a9b-8dab-3ef520715870"
      },
      "execution_count": null,
      "outputs": [
        {
          "output_type": "stream",
          "name": "stdout",
          "text": [
            "[ 0.5  1.5  2.5  3.5  4.5  5.5  6.5  7.5  8.5  9.5 10.5 11.5 12.5 13.5\n",
            " 14.5 15.5 16.5 17.5 18.5 19.5 20.5 21.5 22.5 23.5 24.5 25.5 26.5 27.5\n",
            " 28.5 29.5 30.5 31.5 32.5 33.5 34.5 35.5 36.5 37.5 38.5 39.5 40.5 41.5\n",
            " 42.5 43.5 44.5 45.5 46.5 47.5 48.5 49.5 50.5 51.5 52.5 53.5 54.5 55.5\n",
            " 56.5 57.5 58.5 59.5 60.5] [120. 120. 120. 120. 120. 120. 120. 120. 120. 120. 120. 120. 120. 120.\n",
            " 120. 120. 120. 120. 120. 120. 120. 120. 120. 120. 120. 120. 120. 120.\n",
            " 120. 120. 120. 120. 120. 120. 120. 120. 120. 120. 120. 120. 120. 120.\n",
            " 120. 120. 120. 120. 120. 120. 120. 120. 120. 120. 120. 120. 120. 120.\n",
            " 120. 120. 120. 120. 120.] [ 0.5  1.5  2.5  3.5  4.5  5.5  6.5  7.5  8.5  9.5 10.5 11.5 12.5 13.5\n",
            " 14.5 15.5 16.5 17.5 18.5 19.5 20.5 21.5 22.5 23.5 24.5 25.5 26.5 27.5\n",
            " 28.5 29.5 30.5 31.5 32.5 33.5 34.5 35.5 36.5 37.5 38.5 39.5 40.5 41.5\n",
            " 42.5 43.5 44.5 45.5 46.5 47.5 48.5 49.5 50.5 51.5 52.5 53.5 54.5 55.5\n",
            " 56.5 57.5 58.5 59.5 60.5] [280. 280. 280. 280. 280. 280. 280. 280. 280. 280. 280. 280. 280. 280.\n",
            " 280. 280. 280. 280. 280. 280. 280. 280. 280. 280. 280. 280. 280. 280.\n",
            " 280. 280. 280. 280. 280. 280. 280. 280. 280. 280. 280. 280. 280. 280.\n",
            " 280. 280. 280. 280. 280. 280. 280. 280. 280. 280. 280. 280. 280. 280.\n",
            " 280. 280. 280. 280. 280.]\n"
          ]
        }
      ]
    },
    {
      "cell_type": "code",
      "source": [
        "from matplotlib.colors import BoundaryNorm\n",
        "from matplotlib import pyplot as plt,patches\n",
        "fig, ax = plt.subplots(figsize=(10,5))\n",
        "\n",
        "m = Basemap(projection='merc',llcrnrlon=120.0,llcrnrlat=0.0,urcrnrlon=280.0,urcrnrlat=60.0,\n",
        "                resolution='c',lat_1=0.0,lat_2=60.0,lat_0=30.0,lon_0=180.0)\n",
        "\n",
        "\n",
        "m.drawcoastlines(color='black', linewidth=0.5)\n",
        "m.fillcontinents(color='#c0c0c0', lake_color='#ffffff')\n",
        "m.drawmapboundary()\n",
        "\n",
        "m.drawparallels(np.arange(0,60,10.0),labels=[1,0,0,0])\n",
        "m.drawmeridians(np.arange(120,280,20.0),labels=[0,0,0,1])\n",
        "\n",
        "x,y=m(lon,lat) #reprojects lon and lat using above basemap projection\n",
        "if standard_cbar:\n",
        "  con=plt.contourf(x,y,grid, vmin=-1.25, vmax=0.75) # remove vmin & vmax if not standard\n",
        "else:\n",
        "  con=plt.contourf(x,y,grid)\n",
        "\n",
        "\n",
        "cbar=m.colorbar(con,'bottom',size='5%',pad='10%',cmap=plt.set_cmap('Wistia')) # Wistia for mixed layer ocean_r for thermocline\n",
        "#cbar=m.colorbar(con,'bottom',size='5%',pad='2%')\n",
        "\n",
        "#ax.add_patch(patches.Rectangle((0.25,0.25),0.50,0.50,edgecolor='black',facecolor='none',linewidth=2))\n",
        "\n",
        "if standard_cbar:\n",
        "  plt.title('Average ' + plt_title + ' at ' + depth + ' meters (Standard cbar)')\n",
        "  plt.savefig('/content/drive/MyDrive/REU_2022_copy/plots_copy/Avg_and_STD_plots/' + experiment + '_standard_cbar' + '.png', format='png') # remove '_standard_cbar' if not standard\n",
        "\n",
        "else:\n",
        "  plt.title('Average ' + plt_title)\n",
        "  #plt.title('Average ' + plt_title + ' at ' + depth + ' meters') # VELOCITY\n",
        "  plt.savefig('/content/drive/MyDrive/REU_2022_copy/plots_copy/Avg_and_STD_plots/' + experiment + 'poster.png', format='png')\n",
        " \n",
        "plt.show()\n",
        "\n"
      ],
      "metadata": {
        "colab": {
          "base_uri": "https://localhost:8080/",
          "height": 336
        },
        "id": "KcM3OobHHLnx",
        "outputId": "9d96d010-2dce-4d7f-fab0-6a8d9495fd00"
      },
      "execution_count": null,
      "outputs": [
        {
          "output_type": "display_data",
          "data": {
            "text/plain": [
              "<Figure size 720x360 with 2 Axes>"
            ],
            "image/png": "[encoded data removed]"
          },
          "metadata": {
            "needs_background": "light"
          }
        }
      ]
    },
    {
      "cell_type": "markdown",
      "source": [
        "End Averages Calculations & Plots"
      ],
      "metadata": {
        "id": "BMEGzVRxN2Ci"
      }
    },
    {
      "cell_type": "markdown",
      "source": [
        "# Standard Deviation Calcluations"
      ],
      "metadata": {
        "id": "bAyLB7mpOjZq"
      }
    },
    {
      "cell_type": "code",
      "source": [
        "stat='std'\n",
        "year='2022'\n",
        "\n",
        "# thermocline\n",
        "if Thermocline:  \n",
        "  plt_title='Thermocline' \n",
        "  depth='Thermocline' \n",
        "  experiment1= 'ORA_'+ depth +'_' + stat\n",
        "  therm=df2.so20chgt\n",
        "  std=therm.std('time')\n",
        "\n",
        "# mixed layer\n",
        "elif MXL:\n",
        "  plt_title='MXL' # mxl thermocline\n",
        "  depth='MXL'\n",
        "  experiment1= 'ORA_'+ depth +'_' + stat\n",
        "  mld=df2.somxl010\n",
        "  std=mld.std('time') # compute mean over time\n",
        "\n",
        "# U (zonal velocity)\n",
        "elif U:\n",
        "  plt_title='U_zonal_Velocity'\n",
        "  #model='ORA'\n",
        "  #vdepth = 47.21189  #1045.854 #508.6399 108.0303 1945.296 47.21189 1516.364\n",
        "  model = 'GODAS'\n",
        "  vdepth =  949  #459.0 105.0 949 2174 55 1479\n",
        "  depth = str(int(vdepth))\n",
        "  experiment1=model + '-' + year + '_' + depth + '_' + 'U' + '_'  + stat\n",
        "  #u=df2.vozocrte #added for (ORA)\n",
        "  u=df2.uogrddsl #added (for GODAS)\n",
        "  std=u.std('time')\n",
        "\n",
        "\n",
        "# V (meridional velocity)\n",
        "elif V:\n",
        "  plt_title='V_meridional_Velocity'\n",
        "  #model='ORA'\n",
        "  #vdepth = 1516.364 #1045.854 #508.6399 108.0303 1945.296 47.21189 1516.364\n",
        "  model = 'GODAS'\n",
        "  vdepth =  55  #459.0 105.0 949 2174 55 1479\n",
        "  depth = str(int(vdepth))\n",
        "  plt_title='V_meridional_'\n",
        "  #v=df2.vomecrtn #added (for ORA)\n",
        "  v=df2.vogrddsl #added (for GODAS)\n",
        "  std=v.std('time')\n",
        "  experiment1=model + '-' + year + '_' + depth + '_' + 'V' + '_' + stat\n"
      ],
      "metadata": {
        "id": "JWgKJF_UIOKt",
        "colab": {
          "base_uri": "https://localhost:8080/"
        },
        "outputId": "e5c49866-d45c-48b0-cca4-accd383b60f3"
      },
      "execution_count": null,
      "outputs": [
        {
          "output_type": "stream",
          "name": "stderr",
          "text": [
            "/usr/local/lib/python3.7/dist-packages/numpy/lib/nanfunctions.py:1671: RuntimeWarning: Degrees of freedom <= 0 for slice.\n",
            "  keepdims=keepdims)\n"
          ]
        }
      ]
    },
    {
      "cell_type": "code",
      "source": [
        "print(std)"
      ],
      "metadata": {
        "colab": {
          "base_uri": "https://localhost:8080/"
        },
        "id": "8TdgiBmLCJIG",
        "outputId": "caac539b-c253-4033-ad0d-a196c4969914"
      },
      "execution_count": null,
      "outputs": [
        {
          "output_type": "stream",
          "name": "stdout",
          "text": [
            "<xarray.DataArray 'somxl010' (latitude: 61, longitude: 161)>\n",
            "array([[      nan,       nan,       nan, ..., 5.763731 , 5.5886283,\n",
            "              nan],\n",
            "       [4.871517 , 4.927441 , 4.4295034, ..., 7.775425 , 7.612421 ,\n",
            "        6.671871 ],\n",
            "       [6.48569  , 6.9740577, 6.245818 , ..., 8.257203 , 8.496143 ,\n",
            "        8.777061 ],\n",
            "       ...,\n",
            "       [      nan,       nan,       nan, ..., 7.846962 , 5.8915644,\n",
            "        5.044096 ],\n",
            "       [      nan,       nan,       nan, ..., 7.532911 , 5.723454 ,\n",
            "        3.525115 ],\n",
            "       [      nan,       nan,       nan, ..., 7.0370607, 6.4319205,\n",
            "        4.586317 ]], dtype=float32)\n",
            "Coordinates:\n",
            "  * latitude   (latitude) float64 0.5 1.5 2.5 3.5 4.5 ... 57.5 58.5 59.5 60.5\n",
            "  * longitude  (longitude) float64 120.0 121.0 122.0 123.0 ... 278.0 279.0 280.0\n"
          ]
        }
      ]
    },
    {
      "cell_type": "code",
      "source": [
        "print(np.max(std))\n",
        "print(np.min(std))"
      ],
      "metadata": {
        "colab": {
          "base_uri": "https://localhost:8080/"
        },
        "id": "jATR-R1zb98F",
        "outputId": "ab5453b4-03c5-4036-8d72-f7e7d793ee38"
      },
      "execution_count": null,
      "outputs": [
        {
          "output_type": "stream",
          "name": "stdout",
          "text": [
            "<xarray.DataArray 'somxl010' ()>\n",
            "array(86.70214, dtype=float32)\n",
            "<xarray.DataArray 'somxl010' ()>\n",
            "array(5.271633e-07, dtype=float32)\n"
          ]
        }
      ]
    },
    {
      "cell_type": "code",
      "source": [
        "'''\n",
        "lat,lon=meshgrid(std['latitude'],std['longitude'])\n",
        "grid_std=np.transpose(std.values)\n",
        "\n",
        "lat.shape,lon.shape,grid_std.shape\n",
        "\n",
        "lat,lon=meshgrid(std['latitude'],std['longitude'])\n",
        "#grid=np.transpose(avg.values)\n",
        "#grid1=np.transpose(avg.values) #added\n",
        "#grid=np.delete(grid1,0,2) #added... the column is deleted, but the dimensions are not changing...\n",
        "#grid1=np.transpose(avg.values)\n",
        "#grid=np.delete(grid1,0,2)\n",
        "'''\n",
        "# thermocline\n",
        "if Thermocline:\n",
        "  grid_std=np.transpose(std.values)\n",
        "\n",
        "# mixed layer\n",
        "elif MXL:\n",
        "  grid_std=np.transpose(std.values)\n",
        "\n",
        "# U (zonal velocity)\n",
        "elif U:\n",
        "  grid0=np.transpose(std.values)\n",
        "  grid_std=np.squeeze(grid0,axis=2)\n",
        "\n",
        "# V (meridional velocity)\n",
        "elif V:\n",
        "  grid0=np.transpose(std.values)\n",
        "  grid_std=np.squeeze(grid0,axis=2)\n",
        "\n",
        "lat.shape,lon.shape,grid_std.shape"
      ],
      "metadata": {
        "colab": {
          "base_uri": "https://localhost:8080/"
        },
        "id": "RGr5mvWiO3_1",
        "outputId": "58371a22-ac5d-437c-f112-3a8be777cae2"
      },
      "execution_count": null,
      "outputs": [
        {
          "output_type": "execute_result",
          "data": {
            "text/plain": [
              "((161, 61), (161, 61), (161, 61))"
            ]
          },
          "metadata": {},
          "execution_count": 47
        }
      ]
    },
    {
      "cell_type": "code",
      "source": [
        "fig, ax = plt.subplots(figsize=(10,5))\n",
        "\n",
        "m2 = Basemap(projection='merc',llcrnrlon=120.0,llcrnrlat=0.0,urcrnrlon=280.0,urcrnrlat=60.0,\n",
        "                resolution='c',lat_1=0.0,lat_2=60.0,lat_0=30.0,lon_0=180.0)\n",
        "\n",
        "\n",
        "\n",
        "m2.drawcoastlines(color='black', linewidth=0.5)\n",
        "m2.fillcontinents(color='#c0c0c0', lake_color='#ffffff')\n",
        "m2.drawmapboundary()\n",
        "\n",
        "m2.drawparallels(np.arange(0,60,10.0),labels=[1,0,0,0])\n",
        "m2.drawmeridians(np.arange(120,280,20.0),labels=[0,0,0,1])\n",
        "\n",
        "x,y=m2(lon,lat) #reprojects lon and lat using above basemap projection\n",
        "if standard_cbar: \n",
        "  con=plt.contourf(x,y,grid_std, vmin=0, vmax=0.40) # remove vmin & vmax if not looking for standard\n",
        "else:\n",
        "  con=plt.contourf(x,y,grid_std)\n",
        "\n",
        "cbar=m2.colorbar(con,'bottom',size='5%',pad='2%')\n",
        "\n",
        "if standard_cbar:\n",
        "  plt.title('Standard Deviation of ' + plt_title + '_' + depth + 'Standard Cbar')\n",
        "  plt.savefig('/content/drive/MyDrive/REU_2022_copy/plots_copy/Avg_and_STD_plots/' + experiment1 + '_standard_cbar' + '.png', format='png') # remove '_standard_cbar' if not standard\n",
        "else:\n",
        "  plt.title('Standard Deviation of ' + plt_title + '_' + depth)\n",
        "  plt.savefig('/content/drive/MyDrive/REU_2022_copy/plots_copy/Avg_and_STD_plots/' + experiment1 + '.png', format='png')\n",
        "\n",
        "plt.show()\n"
      ],
      "metadata": {
        "colab": {
          "base_uri": "https://localhost:8080/",
          "height": 336
        },
        "id": "4gdW8ESUPBE0",
        "outputId": "82842c48-7649-4ba5-c592-116d52481362"
      },
      "execution_count": null,
      "outputs": [
        {
          "output_type": "display_data",
          "data": {
            "text/plain": [
              "<Figure size 720x360 with 2 Axes>"
            ],
            "image/png": "[encoded data removed]"
          },
          "metadata": {
            "needs_background": "light"
          }
        }
      ]
    },
    {
      "cell_type": "code",
      "source": [
        ""
      ],
      "metadata": {
        "id": "qO6bC9t-Pe8E"
      },
      "execution_count": null,
      "outputs": []
    }
  ]
}